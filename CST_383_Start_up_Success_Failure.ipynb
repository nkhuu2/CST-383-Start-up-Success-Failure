{
  "nbformat": 4,
  "nbformat_minor": 0,
  "metadata": {
    "colab": {
      "provenance": []
    },
    "kernelspec": {
      "name": "python3",
      "display_name": "Python 3"
    },
    "language_info": {
      "name": "python"
    }
  },
  "cells": [
    {
      "cell_type": "markdown",
      "source": [
        "<center><h2> What factors contribute to the success or failure of start-up companies?</h2>\n",
        "\n",
        "<center>CST 383-SU23 Intro to Data Science </center>\n",
        "<center>Professor Ergezer </center>\n",
        "<center>Steven Forgacs & Nina Khuu  </center>\n"
      ],
      "metadata": {
        "id": "QD1aNeE6QgMF"
      }
    },
    {
      "cell_type": "markdown",
      "source": [
        "The dataset that we will be using is [Startup Success/Fail](https://raw.githubusercontent.com/nkhuu2/CST-383-Start-up-Success-Failure/main/big_startup_secsees_dataset.csv)\n",
        "\n",
        " Our goal is to analyze the data from start-up companies to determine factors that can help predict the likelihood of success or failure in a startup business by analyzing factors such as business category, funding and the number of funding rounds, geographic area, and the success ratios based on those factors.\n",
        "\n",
        "Some of the questions that we plan on exploring are:\n",
        "What is the rate of success and failure in start-up businesses?\n",
        "Do some business sectors yield a higher success rate than others?\n",
        "What is the funding threshold that businesses typically need to find success in their sector?\n",
        "Does geographic region contribute to success/failure rate?\n",
        "Are funding rounds helpful in achieving success?\n",
        "\n",
        "This data analysis will help entrepreneurs make informed decisions and minimize chances of failure in their business endeavors."
      ],
      "metadata": {
        "id": "FX7XgC6IblRN"
      }
    },
    {
      "cell_type": "markdown",
      "source": [
        "Ideas for consideration so they don’t get forgotten/lost.\n",
        "Success/fail by funding, /number of funding rounds,  /geographic region, /state, using 1hot encoding for status, /success ratios, /creation by year, /graphs of failed/success of startups created by year, /ratio us vs the world, /average success rates by country, those for us cities,  /success ratio by category, /funding by category, and the end goal of predicting success/failure.\n"
      ],
      "metadata": {
        "id": "4RfoD8WiadN2"
      }
    },
    {
      "cell_type": "code",
      "source": [
        "#Required packages\n",
        "import numpy as np\n",
        "import pandas as pd\n",
        "import matplotlib.pyplot as plt\n",
        "import seaborn as sns\n",
        "import graphviz\n",
        "from sklearn.compose import make_column_selector as selector\n",
        "from sklearn.model_selection import train_test_split\n",
        "from sklearn.preprocessing import StandardScaler\n",
        "from sklearn.preprocessing import OrdinalEncoder\n",
        "from sklearn.neighbors import KNeighborsClassifier\n",
        "from sklearn.neighbors import KNeighborsRegressor\n",
        "from sklearn.metrics import confusion_matrix\n",
        "from sklearn.tree import DecisionTreeClassifier, export_graphviz\n",
        "from sklearn.linear_model import LinearRegression\n",
        "from sklearn.linear_model import LogisticRegression\n",
        "from sklearn.metrics import accuracy_score\n",
        "from datetime import datetime\n",
        "from collections import defaultdict"
      ],
      "metadata": {
        "id": "pj6omeEfTAmo"
      },
      "execution_count": 1,
      "outputs": []
    },
    {
      "cell_type": "markdown",
      "source": [
        "##Data Exploration"
      ],
      "metadata": {
        "id": "jsX0yL2QXxaE"
      }
    },
    {
      "cell_type": "code",
      "source": [
        "#Read the dataset\n",
        "df = pd.read_csv('https://raw.githubusercontent.com/nkhuu2/CST-383-Start-up-Success-Failure/main/big_startup_secsees_dataset.csv')\n",
        "df"
      ],
      "metadata": {
        "colab": {
          "base_uri": "https://localhost:8080/",
          "height": 676
        },
        "id": "FfQeCozgToi8",
        "outputId": "2af9f25f-ba58-42fc-ef40-27fc7f59fa15"
      },
      "execution_count": 2,
      "outputs": [
        {
          "output_type": "execute_result",
          "data": {
            "text/plain": [
              "                                               permalink  \\\n",
              "0                                    /organization/-fame   \n",
              "1                                 /organization/-qounter   \n",
              "2                    /organization/-the-one-of-them-inc-   \n",
              "3                                  /organization/0-6-com   \n",
              "4                         /organization/004-technologies   \n",
              "...                                                  ...   \n",
              "66363  /organization/zznode-science-and-technology-co...   \n",
              "66364                          /organization/zzzzapp-com   \n",
              "66365                                /organization/Áeron   \n",
              "66366                              /organization/Ôasys-2   \n",
              "66367  /organization/İnovatiff-reklam-ve-tanıtım-hizm...   \n",
              "\n",
              "                                             name  \\\n",
              "0                                           #fame   \n",
              "1                                        :Qounter   \n",
              "2                          (THE) ONE of THEM,Inc.   \n",
              "3                                         0-6.com   \n",
              "4                                004 Technologies   \n",
              "...                                           ...   \n",
              "66363               ZZNode Science and Technology   \n",
              "66364                       Zzzzapp Wireless ltd.   \n",
              "66365                                       ÁERON   \n",
              "66366                                       Ôasys   \n",
              "66367  İnovatiff Reklam ve Tanıtım Hizmetleri Tic   \n",
              "\n",
              "                            homepage_url  \\\n",
              "0                     http://livfame.com   \n",
              "1                 http://www.qounter.com   \n",
              "2                    http://oneofthem.jp   \n",
              "3                     http://www.0-6.com   \n",
              "4      http://004gmbh.de/en/004-interact   \n",
              "...                                  ...   \n",
              "66363              http://www.zznode.com   \n",
              "66364             http://www.zzzzapp.com   \n",
              "66365               http://www.aeron.hu/   \n",
              "66366               http://www.oasys.io/   \n",
              "66367               http://inovatiff.com   \n",
              "\n",
              "                                           category_list funding_total_usd  \\\n",
              "0                                                  Media          10000000   \n",
              "1      Application Platforms|Real Time|Social Network...            700000   \n",
              "2                                      Apps|Games|Mobile           3406878   \n",
              "3                                            Curated Web           2000000   \n",
              "4                                               Software                 -   \n",
              "...                                                  ...               ...   \n",
              "66363                                Enterprise Software           1587301   \n",
              "66364        Advertising|Mobile|Web Development|Wireless            114304   \n",
              "66365                                                NaN                 -   \n",
              "66366  Consumer Electronics|Internet of Things|Teleco...             18192   \n",
              "66367                 Consumer Goods|E-Commerce|Internet             14851   \n",
              "\n",
              "          status country_code state_code                 region  \\\n",
              "0      operating          IND         16                 Mumbai   \n",
              "1      operating          USA         DE             DE - Other   \n",
              "2      operating          NaN        NaN                    NaN   \n",
              "3      operating          CHN         22                Beijing   \n",
              "4      operating          USA         IL  Springfield, Illinois   \n",
              "...          ...          ...        ...                    ...   \n",
              "66363  operating          CHN         22                Beijing   \n",
              "66364  operating          HRV         15                  Split   \n",
              "66365  operating          NaN        NaN                    NaN   \n",
              "66366  operating          USA         CA            SF Bay Area   \n",
              "66367  operating          NaN        NaN                    NaN   \n",
              "\n",
              "                city  funding_rounds  founded_at first_funding_at  \\\n",
              "0             Mumbai               1         NaN       2015-01-05   \n",
              "1      Delaware City               2  2014-09-04       2014-03-01   \n",
              "2                NaN               1         NaN       2014-01-30   \n",
              "3            Beijing               1  2007-01-01       2008-03-19   \n",
              "4          Champaign               1  2010-01-01       2014-07-24   \n",
              "...              ...             ...         ...              ...   \n",
              "66363        Beijing               1         NaN       2012-04-01   \n",
              "66364          Split               4  2012-05-13       2011-11-01   \n",
              "66365            NaN               1  2011-01-01       2014-08-01   \n",
              "66366  San Francisco               1  2014-01-01       2015-01-01   \n",
              "66367            NaN               1         NaN       2013-10-01   \n",
              "\n",
              "      last_funding_at  \n",
              "0          2015-01-05  \n",
              "1          2014-10-14  \n",
              "2          2014-01-30  \n",
              "3          2008-03-19  \n",
              "4          2014-07-24  \n",
              "...               ...  \n",
              "66363      2012-04-01  \n",
              "66364      2014-03-01  \n",
              "66365      2014-08-01  \n",
              "66366      2015-01-01  \n",
              "66367      2013-10-01  \n",
              "\n",
              "[66368 rows x 14 columns]"
            ],
            "text/html": [
              "\n",
              "  <div id=\"df-067867e5-20fe-43f8-bf11-fa004d164626\">\n",
              "    <div class=\"colab-df-container\">\n",
              "      <div>\n",
              "<style scoped>\n",
              "    .dataframe tbody tr th:only-of-type {\n",
              "        vertical-align: middle;\n",
              "    }\n",
              "\n",
              "    .dataframe tbody tr th {\n",
              "        vertical-align: top;\n",
              "    }\n",
              "\n",
              "    .dataframe thead th {\n",
              "        text-align: right;\n",
              "    }\n",
              "</style>\n",
              "<table border=\"1\" class=\"dataframe\">\n",
              "  <thead>\n",
              "    <tr style=\"text-align: right;\">\n",
              "      <th></th>\n",
              "      <th>permalink</th>\n",
              "      <th>name</th>\n",
              "      <th>homepage_url</th>\n",
              "      <th>category_list</th>\n",
              "      <th>funding_total_usd</th>\n",
              "      <th>status</th>\n",
              "      <th>country_code</th>\n",
              "      <th>state_code</th>\n",
              "      <th>region</th>\n",
              "      <th>city</th>\n",
              "      <th>funding_rounds</th>\n",
              "      <th>founded_at</th>\n",
              "      <th>first_funding_at</th>\n",
              "      <th>last_funding_at</th>\n",
              "    </tr>\n",
              "  </thead>\n",
              "  <tbody>\n",
              "    <tr>\n",
              "      <th>0</th>\n",
              "      <td>/organization/-fame</td>\n",
              "      <td>#fame</td>\n",
              "      <td>http://livfame.com</td>\n",
              "      <td>Media</td>\n",
              "      <td>10000000</td>\n",
              "      <td>operating</td>\n",
              "      <td>IND</td>\n",
              "      <td>16</td>\n",
              "      <td>Mumbai</td>\n",
              "      <td>Mumbai</td>\n",
              "      <td>1</td>\n",
              "      <td>NaN</td>\n",
              "      <td>2015-01-05</td>\n",
              "      <td>2015-01-05</td>\n",
              "    </tr>\n",
              "    <tr>\n",
              "      <th>1</th>\n",
              "      <td>/organization/-qounter</td>\n",
              "      <td>:Qounter</td>\n",
              "      <td>http://www.qounter.com</td>\n",
              "      <td>Application Platforms|Real Time|Social Network...</td>\n",
              "      <td>700000</td>\n",
              "      <td>operating</td>\n",
              "      <td>USA</td>\n",
              "      <td>DE</td>\n",
              "      <td>DE - Other</td>\n",
              "      <td>Delaware City</td>\n",
              "      <td>2</td>\n",
              "      <td>2014-09-04</td>\n",
              "      <td>2014-03-01</td>\n",
              "      <td>2014-10-14</td>\n",
              "    </tr>\n",
              "    <tr>\n",
              "      <th>2</th>\n",
              "      <td>/organization/-the-one-of-them-inc-</td>\n",
              "      <td>(THE) ONE of THEM,Inc.</td>\n",
              "      <td>http://oneofthem.jp</td>\n",
              "      <td>Apps|Games|Mobile</td>\n",
              "      <td>3406878</td>\n",
              "      <td>operating</td>\n",
              "      <td>NaN</td>\n",
              "      <td>NaN</td>\n",
              "      <td>NaN</td>\n",
              "      <td>NaN</td>\n",
              "      <td>1</td>\n",
              "      <td>NaN</td>\n",
              "      <td>2014-01-30</td>\n",
              "      <td>2014-01-30</td>\n",
              "    </tr>\n",
              "    <tr>\n",
              "      <th>3</th>\n",
              "      <td>/organization/0-6-com</td>\n",
              "      <td>0-6.com</td>\n",
              "      <td>http://www.0-6.com</td>\n",
              "      <td>Curated Web</td>\n",
              "      <td>2000000</td>\n",
              "      <td>operating</td>\n",
              "      <td>CHN</td>\n",
              "      <td>22</td>\n",
              "      <td>Beijing</td>\n",
              "      <td>Beijing</td>\n",
              "      <td>1</td>\n",
              "      <td>2007-01-01</td>\n",
              "      <td>2008-03-19</td>\n",
              "      <td>2008-03-19</td>\n",
              "    </tr>\n",
              "    <tr>\n",
              "      <th>4</th>\n",
              "      <td>/organization/004-technologies</td>\n",
              "      <td>004 Technologies</td>\n",
              "      <td>http://004gmbh.de/en/004-interact</td>\n",
              "      <td>Software</td>\n",
              "      <td>-</td>\n",
              "      <td>operating</td>\n",
              "      <td>USA</td>\n",
              "      <td>IL</td>\n",
              "      <td>Springfield, Illinois</td>\n",
              "      <td>Champaign</td>\n",
              "      <td>1</td>\n",
              "      <td>2010-01-01</td>\n",
              "      <td>2014-07-24</td>\n",
              "      <td>2014-07-24</td>\n",
              "    </tr>\n",
              "    <tr>\n",
              "      <th>...</th>\n",
              "      <td>...</td>\n",
              "      <td>...</td>\n",
              "      <td>...</td>\n",
              "      <td>...</td>\n",
              "      <td>...</td>\n",
              "      <td>...</td>\n",
              "      <td>...</td>\n",
              "      <td>...</td>\n",
              "      <td>...</td>\n",
              "      <td>...</td>\n",
              "      <td>...</td>\n",
              "      <td>...</td>\n",
              "      <td>...</td>\n",
              "      <td>...</td>\n",
              "    </tr>\n",
              "    <tr>\n",
              "      <th>66363</th>\n",
              "      <td>/organization/zznode-science-and-technology-co...</td>\n",
              "      <td>ZZNode Science and Technology</td>\n",
              "      <td>http://www.zznode.com</td>\n",
              "      <td>Enterprise Software</td>\n",
              "      <td>1587301</td>\n",
              "      <td>operating</td>\n",
              "      <td>CHN</td>\n",
              "      <td>22</td>\n",
              "      <td>Beijing</td>\n",
              "      <td>Beijing</td>\n",
              "      <td>1</td>\n",
              "      <td>NaN</td>\n",
              "      <td>2012-04-01</td>\n",
              "      <td>2012-04-01</td>\n",
              "    </tr>\n",
              "    <tr>\n",
              "      <th>66364</th>\n",
              "      <td>/organization/zzzzapp-com</td>\n",
              "      <td>Zzzzapp Wireless ltd.</td>\n",
              "      <td>http://www.zzzzapp.com</td>\n",
              "      <td>Advertising|Mobile|Web Development|Wireless</td>\n",
              "      <td>114304</td>\n",
              "      <td>operating</td>\n",
              "      <td>HRV</td>\n",
              "      <td>15</td>\n",
              "      <td>Split</td>\n",
              "      <td>Split</td>\n",
              "      <td>4</td>\n",
              "      <td>2012-05-13</td>\n",
              "      <td>2011-11-01</td>\n",
              "      <td>2014-03-01</td>\n",
              "    </tr>\n",
              "    <tr>\n",
              "      <th>66365</th>\n",
              "      <td>/organization/Áeron</td>\n",
              "      <td>ÁERON</td>\n",
              "      <td>http://www.aeron.hu/</td>\n",
              "      <td>NaN</td>\n",
              "      <td>-</td>\n",
              "      <td>operating</td>\n",
              "      <td>NaN</td>\n",
              "      <td>NaN</td>\n",
              "      <td>NaN</td>\n",
              "      <td>NaN</td>\n",
              "      <td>1</td>\n",
              "      <td>2011-01-01</td>\n",
              "      <td>2014-08-01</td>\n",
              "      <td>2014-08-01</td>\n",
              "    </tr>\n",
              "    <tr>\n",
              "      <th>66366</th>\n",
              "      <td>/organization/Ôasys-2</td>\n",
              "      <td>Ôasys</td>\n",
              "      <td>http://www.oasys.io/</td>\n",
              "      <td>Consumer Electronics|Internet of Things|Teleco...</td>\n",
              "      <td>18192</td>\n",
              "      <td>operating</td>\n",
              "      <td>USA</td>\n",
              "      <td>CA</td>\n",
              "      <td>SF Bay Area</td>\n",
              "      <td>San Francisco</td>\n",
              "      <td>1</td>\n",
              "      <td>2014-01-01</td>\n",
              "      <td>2015-01-01</td>\n",
              "      <td>2015-01-01</td>\n",
              "    </tr>\n",
              "    <tr>\n",
              "      <th>66367</th>\n",
              "      <td>/organization/İnovatiff-reklam-ve-tanıtım-hizm...</td>\n",
              "      <td>İnovatiff Reklam ve Tanıtım Hizmetleri Tic</td>\n",
              "      <td>http://inovatiff.com</td>\n",
              "      <td>Consumer Goods|E-Commerce|Internet</td>\n",
              "      <td>14851</td>\n",
              "      <td>operating</td>\n",
              "      <td>NaN</td>\n",
              "      <td>NaN</td>\n",
              "      <td>NaN</td>\n",
              "      <td>NaN</td>\n",
              "      <td>1</td>\n",
              "      <td>NaN</td>\n",
              "      <td>2013-10-01</td>\n",
              "      <td>2013-10-01</td>\n",
              "    </tr>\n",
              "  </tbody>\n",
              "</table>\n",
              "<p>66368 rows × 14 columns</p>\n",
              "</div>\n",
              "      <button class=\"colab-df-convert\" onclick=\"convertToInteractive('df-067867e5-20fe-43f8-bf11-fa004d164626')\"\n",
              "              title=\"Convert this dataframe to an interactive table.\"\n",
              "              style=\"display:none;\">\n",
              "        \n",
              "  <svg xmlns=\"http://www.w3.org/2000/svg\" height=\"24px\"viewBox=\"0 0 24 24\"\n",
              "       width=\"24px\">\n",
              "    <path d=\"M0 0h24v24H0V0z\" fill=\"none\"/>\n",
              "    <path d=\"M18.56 5.44l.94 2.06.94-2.06 2.06-.94-2.06-.94-.94-2.06-.94 2.06-2.06.94zm-11 1L8.5 8.5l.94-2.06 2.06-.94-2.06-.94L8.5 2.5l-.94 2.06-2.06.94zm10 10l.94 2.06.94-2.06 2.06-.94-2.06-.94-.94-2.06-.94 2.06-2.06.94z\"/><path d=\"M17.41 7.96l-1.37-1.37c-.4-.4-.92-.59-1.43-.59-.52 0-1.04.2-1.43.59L10.3 9.45l-7.72 7.72c-.78.78-.78 2.05 0 2.83L4 21.41c.39.39.9.59 1.41.59.51 0 1.02-.2 1.41-.59l7.78-7.78 2.81-2.81c.8-.78.8-2.07 0-2.86zM5.41 20L4 18.59l7.72-7.72 1.47 1.35L5.41 20z\"/>\n",
              "  </svg>\n",
              "      </button>\n",
              "      \n",
              "  <style>\n",
              "    .colab-df-container {\n",
              "      display:flex;\n",
              "      flex-wrap:wrap;\n",
              "      gap: 12px;\n",
              "    }\n",
              "\n",
              "    .colab-df-convert {\n",
              "      background-color: #E8F0FE;\n",
              "      border: none;\n",
              "      border-radius: 50%;\n",
              "      cursor: pointer;\n",
              "      display: none;\n",
              "      fill: #1967D2;\n",
              "      height: 32px;\n",
              "      padding: 0 0 0 0;\n",
              "      width: 32px;\n",
              "    }\n",
              "\n",
              "    .colab-df-convert:hover {\n",
              "      background-color: #E2EBFA;\n",
              "      box-shadow: 0px 1px 2px rgba(60, 64, 67, 0.3), 0px 1px 3px 1px rgba(60, 64, 67, 0.15);\n",
              "      fill: #174EA6;\n",
              "    }\n",
              "\n",
              "    [theme=dark] .colab-df-convert {\n",
              "      background-color: #3B4455;\n",
              "      fill: #D2E3FC;\n",
              "    }\n",
              "\n",
              "    [theme=dark] .colab-df-convert:hover {\n",
              "      background-color: #434B5C;\n",
              "      box-shadow: 0px 1px 3px 1px rgba(0, 0, 0, 0.15);\n",
              "      filter: drop-shadow(0px 1px 2px rgba(0, 0, 0, 0.3));\n",
              "      fill: #FFFFFF;\n",
              "    }\n",
              "  </style>\n",
              "\n",
              "      <script>\n",
              "        const buttonEl =\n",
              "          document.querySelector('#df-067867e5-20fe-43f8-bf11-fa004d164626 button.colab-df-convert');\n",
              "        buttonEl.style.display =\n",
              "          google.colab.kernel.accessAllowed ? 'block' : 'none';\n",
              "\n",
              "        async function convertToInteractive(key) {\n",
              "          const element = document.querySelector('#df-067867e5-20fe-43f8-bf11-fa004d164626');\n",
              "          const dataTable =\n",
              "            await google.colab.kernel.invokeFunction('convertToInteractive',\n",
              "                                                     [key], {});\n",
              "          if (!dataTable) return;\n",
              "\n",
              "          const docLinkHtml = 'Like what you see? Visit the ' +\n",
              "            '<a target=\"_blank\" href=https://colab.research.google.com/notebooks/data_table.ipynb>data table notebook</a>'\n",
              "            + ' to learn more about interactive tables.';\n",
              "          element.innerHTML = '';\n",
              "          dataTable['output_type'] = 'display_data';\n",
              "          await google.colab.output.renderOutput(dataTable, element);\n",
              "          const docLink = document.createElement('div');\n",
              "          docLink.innerHTML = docLinkHtml;\n",
              "          element.appendChild(docLink);\n",
              "        }\n",
              "      </script>\n",
              "    </div>\n",
              "  </div>\n",
              "  "
            ]
          },
          "metadata": {},
          "execution_count": 2
        }
      ]
    },
    {
      "cell_type": "code",
      "source": [
        "#Concise summary of the dataframe\n",
        "df.info()"
      ],
      "metadata": {
        "colab": {
          "base_uri": "https://localhost:8080/"
        },
        "id": "jSEvrqrfXGko",
        "outputId": "73486688-7303-45ac-9966-ccc43c0afdea"
      },
      "execution_count": 3,
      "outputs": [
        {
          "output_type": "stream",
          "name": "stdout",
          "text": [
            "<class 'pandas.core.frame.DataFrame'>\n",
            "RangeIndex: 66368 entries, 0 to 66367\n",
            "Data columns (total 14 columns):\n",
            " #   Column             Non-Null Count  Dtype \n",
            "---  ------             --------------  ----- \n",
            " 0   permalink          66368 non-null  object\n",
            " 1   name               66367 non-null  object\n",
            " 2   homepage_url       61310 non-null  object\n",
            " 3   category_list      63220 non-null  object\n",
            " 4   funding_total_usd  66368 non-null  object\n",
            " 5   status             66368 non-null  object\n",
            " 6   country_code       59410 non-null  object\n",
            " 7   state_code         57821 non-null  object\n",
            " 8   region             58338 non-null  object\n",
            " 9   city               58340 non-null  object\n",
            " 10  funding_rounds     66368 non-null  int64 \n",
            " 11  founded_at         51147 non-null  object\n",
            " 12  first_funding_at   66344 non-null  object\n",
            " 13  last_funding_at    66368 non-null  object\n",
            "dtypes: int64(1), object(13)\n",
            "memory usage: 7.1+ MB\n"
          ]
        }
      ]
    },
    {
      "cell_type": "code",
      "source": [
        "df.describe()"
      ],
      "metadata": {
        "colab": {
          "base_uri": "https://localhost:8080/",
          "height": 300
        },
        "id": "78j6vRyX64gf",
        "outputId": "64dda97c-bc69-4d83-96f6-25b53d0710bf"
      },
      "execution_count": 4,
      "outputs": [
        {
          "output_type": "execute_result",
          "data": {
            "text/plain": [
              "       funding_rounds\n",
              "count    66368.000000\n",
              "mean         1.732522\n",
              "std          1.360251\n",
              "min          1.000000\n",
              "25%          1.000000\n",
              "50%          1.000000\n",
              "75%          2.000000\n",
              "max         19.000000"
            ],
            "text/html": [
              "\n",
              "  <div id=\"df-d6f459a9-adc3-43e0-8550-5d4934371459\">\n",
              "    <div class=\"colab-df-container\">\n",
              "      <div>\n",
              "<style scoped>\n",
              "    .dataframe tbody tr th:only-of-type {\n",
              "        vertical-align: middle;\n",
              "    }\n",
              "\n",
              "    .dataframe tbody tr th {\n",
              "        vertical-align: top;\n",
              "    }\n",
              "\n",
              "    .dataframe thead th {\n",
              "        text-align: right;\n",
              "    }\n",
              "</style>\n",
              "<table border=\"1\" class=\"dataframe\">\n",
              "  <thead>\n",
              "    <tr style=\"text-align: right;\">\n",
              "      <th></th>\n",
              "      <th>funding_rounds</th>\n",
              "    </tr>\n",
              "  </thead>\n",
              "  <tbody>\n",
              "    <tr>\n",
              "      <th>count</th>\n",
              "      <td>66368.000000</td>\n",
              "    </tr>\n",
              "    <tr>\n",
              "      <th>mean</th>\n",
              "      <td>1.732522</td>\n",
              "    </tr>\n",
              "    <tr>\n",
              "      <th>std</th>\n",
              "      <td>1.360251</td>\n",
              "    </tr>\n",
              "    <tr>\n",
              "      <th>min</th>\n",
              "      <td>1.000000</td>\n",
              "    </tr>\n",
              "    <tr>\n",
              "      <th>25%</th>\n",
              "      <td>1.000000</td>\n",
              "    </tr>\n",
              "    <tr>\n",
              "      <th>50%</th>\n",
              "      <td>1.000000</td>\n",
              "    </tr>\n",
              "    <tr>\n",
              "      <th>75%</th>\n",
              "      <td>2.000000</td>\n",
              "    </tr>\n",
              "    <tr>\n",
              "      <th>max</th>\n",
              "      <td>19.000000</td>\n",
              "    </tr>\n",
              "  </tbody>\n",
              "</table>\n",
              "</div>\n",
              "      <button class=\"colab-df-convert\" onclick=\"convertToInteractive('df-d6f459a9-adc3-43e0-8550-5d4934371459')\"\n",
              "              title=\"Convert this dataframe to an interactive table.\"\n",
              "              style=\"display:none;\">\n",
              "        \n",
              "  <svg xmlns=\"http://www.w3.org/2000/svg\" height=\"24px\"viewBox=\"0 0 24 24\"\n",
              "       width=\"24px\">\n",
              "    <path d=\"M0 0h24v24H0V0z\" fill=\"none\"/>\n",
              "    <path d=\"M18.56 5.44l.94 2.06.94-2.06 2.06-.94-2.06-.94-.94-2.06-.94 2.06-2.06.94zm-11 1L8.5 8.5l.94-2.06 2.06-.94-2.06-.94L8.5 2.5l-.94 2.06-2.06.94zm10 10l.94 2.06.94-2.06 2.06-.94-2.06-.94-.94-2.06-.94 2.06-2.06.94z\"/><path d=\"M17.41 7.96l-1.37-1.37c-.4-.4-.92-.59-1.43-.59-.52 0-1.04.2-1.43.59L10.3 9.45l-7.72 7.72c-.78.78-.78 2.05 0 2.83L4 21.41c.39.39.9.59 1.41.59.51 0 1.02-.2 1.41-.59l7.78-7.78 2.81-2.81c.8-.78.8-2.07 0-2.86zM5.41 20L4 18.59l7.72-7.72 1.47 1.35L5.41 20z\"/>\n",
              "  </svg>\n",
              "      </button>\n",
              "      \n",
              "  <style>\n",
              "    .colab-df-container {\n",
              "      display:flex;\n",
              "      flex-wrap:wrap;\n",
              "      gap: 12px;\n",
              "    }\n",
              "\n",
              "    .colab-df-convert {\n",
              "      background-color: #E8F0FE;\n",
              "      border: none;\n",
              "      border-radius: 50%;\n",
              "      cursor: pointer;\n",
              "      display: none;\n",
              "      fill: #1967D2;\n",
              "      height: 32px;\n",
              "      padding: 0 0 0 0;\n",
              "      width: 32px;\n",
              "    }\n",
              "\n",
              "    .colab-df-convert:hover {\n",
              "      background-color: #E2EBFA;\n",
              "      box-shadow: 0px 1px 2px rgba(60, 64, 67, 0.3), 0px 1px 3px 1px rgba(60, 64, 67, 0.15);\n",
              "      fill: #174EA6;\n",
              "    }\n",
              "\n",
              "    [theme=dark] .colab-df-convert {\n",
              "      background-color: #3B4455;\n",
              "      fill: #D2E3FC;\n",
              "    }\n",
              "\n",
              "    [theme=dark] .colab-df-convert:hover {\n",
              "      background-color: #434B5C;\n",
              "      box-shadow: 0px 1px 3px 1px rgba(0, 0, 0, 0.15);\n",
              "      filter: drop-shadow(0px 1px 2px rgba(0, 0, 0, 0.3));\n",
              "      fill: #FFFFFF;\n",
              "    }\n",
              "  </style>\n",
              "\n",
              "      <script>\n",
              "        const buttonEl =\n",
              "          document.querySelector('#df-d6f459a9-adc3-43e0-8550-5d4934371459 button.colab-df-convert');\n",
              "        buttonEl.style.display =\n",
              "          google.colab.kernel.accessAllowed ? 'block' : 'none';\n",
              "\n",
              "        async function convertToInteractive(key) {\n",
              "          const element = document.querySelector('#df-d6f459a9-adc3-43e0-8550-5d4934371459');\n",
              "          const dataTable =\n",
              "            await google.colab.kernel.invokeFunction('convertToInteractive',\n",
              "                                                     [key], {});\n",
              "          if (!dataTable) return;\n",
              "\n",
              "          const docLinkHtml = 'Like what you see? Visit the ' +\n",
              "            '<a target=\"_blank\" href=https://colab.research.google.com/notebooks/data_table.ipynb>data table notebook</a>'\n",
              "            + ' to learn more about interactive tables.';\n",
              "          element.innerHTML = '';\n",
              "          dataTable['output_type'] = 'display_data';\n",
              "          await google.colab.output.renderOutput(dataTable, element);\n",
              "          const docLink = document.createElement('div');\n",
              "          docLink.innerHTML = docLinkHtml;\n",
              "          element.appendChild(docLink);\n",
              "        }\n",
              "      </script>\n",
              "    </div>\n",
              "  </div>\n",
              "  "
            ]
          },
          "metadata": {},
          "execution_count": 4
        }
      ]
    },
    {
      "cell_type": "code",
      "source": [
        "# see the number of companies by category\n",
        "df.category_list.value_counts().head(15)"
      ],
      "metadata": {
        "colab": {
          "base_uri": "https://localhost:8080/"
        },
        "id": "D8B0zWQeFu0Z",
        "outputId": "79943e07-9da4-4dd2-d182-9bfdf358d2c3"
      },
      "execution_count": 5,
      "outputs": [
        {
          "output_type": "execute_result",
          "data": {
            "text/plain": [
              "Software               3995\n",
              "Biotechnology          3615\n",
              "E-Commerce             1332\n",
              "Mobile                 1177\n",
              "Clean Technology       1133\n",
              "Curated Web            1050\n",
              "Hardware + Software     932\n",
              "Health Care             930\n",
              "Games                   862\n",
              "Enterprise Software     845\n",
              "Manufacturing           773\n",
              "Health and Wellness     770\n",
              "Advertising             700\n",
              "Education               585\n",
              "Semiconductors          501\n",
              "Name: category_list, dtype: int64"
            ]
          },
          "metadata": {},
          "execution_count": 5
        }
      ]
    },
    {
      "cell_type": "markdown",
      "source": [
        "##Data Preprocessing"
      ],
      "metadata": {
        "id": "CCH9aMC0EqfU"
      }
    },
    {
      "cell_type": "code",
      "source": [
        "#Convert funding_total_usd to float values\n",
        "df['funding_total_usd'] = pd.to_numeric(df['funding_total_usd'], errors='coerce')"
      ],
      "metadata": {
        "id": "dMYGCbI0kkuu"
      },
      "execution_count": 6,
      "outputs": []
    },
    {
      "cell_type": "code",
      "source": [
        "#Get a fraction of NA values by column\n",
        "df.isna().mean()"
      ],
      "metadata": {
        "colab": {
          "base_uri": "https://localhost:8080/"
        },
        "id": "q4sO13IYYPg7",
        "outputId": "a4779a6e-014b-489a-9a80-679eeddfce04"
      },
      "execution_count": 7,
      "outputs": [
        {
          "output_type": "execute_result",
          "data": {
            "text/plain": [
              "permalink            0.000000\n",
              "name                 0.000015\n",
              "homepage_url         0.076211\n",
              "category_list        0.047432\n",
              "funding_total_usd    0.192638\n",
              "status               0.000000\n",
              "country_code         0.104840\n",
              "state_code           0.128782\n",
              "region               0.120992\n",
              "city                 0.120962\n",
              "funding_rounds       0.000000\n",
              "founded_at           0.229342\n",
              "first_funding_at     0.000362\n",
              "last_funding_at      0.000000\n",
              "dtype: float64"
            ]
          },
          "metadata": {},
          "execution_count": 7
        }
      ]
    },
    {
      "cell_type": "code",
      "source": [
        "# Missing values in the dataframe\n",
        "df.isna().sum()"
      ],
      "metadata": {
        "colab": {
          "base_uri": "https://localhost:8080/"
        },
        "id": "BSP9slTEZLWQ",
        "outputId": "fdc1623f-e5ea-44a3-bfcb-b6e3f84e21c2"
      },
      "execution_count": 8,
      "outputs": [
        {
          "output_type": "execute_result",
          "data": {
            "text/plain": [
              "permalink                0\n",
              "name                     1\n",
              "homepage_url          5058\n",
              "category_list         3148\n",
              "funding_total_usd    12785\n",
              "status                   0\n",
              "country_code          6958\n",
              "state_code            8547\n",
              "region                8030\n",
              "city                  8028\n",
              "funding_rounds           0\n",
              "founded_at           15221\n",
              "first_funding_at        24\n",
              "last_funding_at          0\n",
              "dtype: int64"
            ]
          },
          "metadata": {},
          "execution_count": 8
        }
      ]
    },
    {
      "cell_type": "code",
      "source": [
        "# see how much data is missing from funding_total_usd\n",
        "def check_if_not_num(x):\n",
        "    try:\n",
        "      if pd.isna(x):\n",
        "        return True\n",
        "      float(x)\n",
        "      return False\n",
        "    except ValueError:\n",
        "        return True\n",
        "\n",
        "mask = df.funding_total_usd.apply(check_if_not_num)\n",
        "print('Number of non-numeric string and NaN funding values: ', mask.sum())\n"
      ],
      "metadata": {
        "colab": {
          "base_uri": "https://localhost:8080/"
        },
        "id": "6UOpiPh6GsYd",
        "outputId": "9bf2e97a-f230-4f8d-fd74-7fdb3ac1f539"
      },
      "execution_count": 9,
      "outputs": [
        {
          "output_type": "stream",
          "name": "stdout",
          "text": [
            "Number of non-numeric string and NaN funding values:  12785\n"
          ]
        }
      ]
    },
    {
      "cell_type": "markdown",
      "source": [
        "We decided to drop these rows. We have not determined a way to impute values that would make sense. Some of these may have not had any outside funding, or the data may have been lost or not reported."
      ],
      "metadata": {
        "id": "CoyWqIhLXmaA"
      }
    },
    {
      "cell_type": "code",
      "source": [
        "# drop rows that contain NA in the funding_total_usd column\n",
        "df = df.dropna(subset=['funding_total_usd'])\n",
        "\n",
        "# drop rows we cannot make a year for\n",
        "df = df.dropna(subset=['first_funding_at'])\n",
        "\n",
        "# drop rows that contain NA in the category_list\n",
        "df = df.dropna(subset=['category_list'])\n",
        "\n",
        "# impute country_code to USA\n",
        "df['country_code'].fillna('Unknown')\n",
        "#df['country_code'] = np.where(df['country_code'] == 'False', df['country_code'], 'Unknown')\n",
        "print('NA country_code entries: ', df['country_code'].isna().sum())\n",
        "# getting rid of the columns that we will not be using\n",
        "df = df[['funding_total_usd', 'status', 'funding_rounds', 'first_funding_at', 'country_code', 'category_list']]\n",
        "\n",
        "#Get a fraction of NA values by column\n",
        "df.isna().mean()"
      ],
      "metadata": {
        "colab": {
          "base_uri": "https://localhost:8080/"
        },
        "id": "ZdnJmxgi7__t",
        "outputId": "63bd22b6-89e2-4537-f416-006ac331e2a6"
      },
      "execution_count": 10,
      "outputs": [
        {
          "output_type": "stream",
          "name": "stdout",
          "text": [
            "NA country_code entries:  4199\n"
          ]
        },
        {
          "output_type": "execute_result",
          "data": {
            "text/plain": [
              "funding_total_usd    0.0000\n",
              "status               0.0000\n",
              "funding_rounds       0.0000\n",
              "first_funding_at     0.0000\n",
              "country_code         0.0798\n",
              "category_list        0.0000\n",
              "dtype: float64"
            ]
          },
          "metadata": {},
          "execution_count": 10
        }
      ]
    },
    {
      "cell_type": "code",
      "source": [
        "def status_result(status):\n",
        "  if status in ['ipo' , 'acquired']:\n",
        "    return 'success'\n",
        "  elif status =='closed':\n",
        "    return 'fail'\n",
        "  else:\n",
        "    return 'operating'\n",
        "\n",
        "df['status'] = df['status'].apply(status_result)\n",
        "\n",
        "df = df[df['status'] != 'operating']\n",
        "\n",
        "df['status'].value_counts()"
      ],
      "metadata": {
        "colab": {
          "base_uri": "https://localhost:8080/"
        },
        "id": "PT3BmAYYBTGs",
        "outputId": "4f6cefc4-de77-493c-c3d2-addb401de8bf"
      },
      "execution_count": 11,
      "outputs": [
        {
          "output_type": "execute_result",
          "data": {
            "text/plain": [
              "success    6207\n",
              "fail       4527\n",
              "Name: status, dtype: int64"
            ]
          },
          "metadata": {},
          "execution_count": 11
        }
      ]
    },
    {
      "cell_type": "code",
      "source": [
        "# one hot encoding on status and country_code columns\n",
        "columns = ['status']\n",
        "\n",
        "success_df = pd.get_dummies(df[columns], dtype=int)\n",
        "df = pd.concat([df, success_df], axis=1)\n",
        "\n",
        "df.info()\n",
        "\n",
        "# columns = ['country_id']\n",
        "# country_df = pd.get_dummies(df['country_code'], dtype=int)\n",
        "# df = pd.concat([df, country_df], axis=1)\n"
      ],
      "metadata": {
        "colab": {
          "base_uri": "https://localhost:8080/"
        },
        "id": "QWViRRcuKpAH",
        "outputId": "d837e80d-16d7-4118-8727-62f9154f4055"
      },
      "execution_count": 12,
      "outputs": [
        {
          "output_type": "stream",
          "name": "stdout",
          "text": [
            "<class 'pandas.core.frame.DataFrame'>\n",
            "Int64Index: 10734 entries, 15 to 66360\n",
            "Data columns (total 8 columns):\n",
            " #   Column             Non-Null Count  Dtype  \n",
            "---  ------             --------------  -----  \n",
            " 0   funding_total_usd  10734 non-null  float64\n",
            " 1   status             10734 non-null  object \n",
            " 2   funding_rounds     10734 non-null  int64  \n",
            " 3   first_funding_at   10734 non-null  object \n",
            " 4   country_code       9663 non-null   object \n",
            " 5   category_list      10734 non-null  object \n",
            " 6   status_fail        10734 non-null  int64  \n",
            " 7   status_success     10734 non-null  int64  \n",
            "dtypes: float64(1), int64(3), object(4)\n",
            "memory usage: 754.7+ KB\n"
          ]
        }
      ]
    },
    {
      "cell_type": "code",
      "source": [
        "# encode country data\n",
        "\n",
        "categorical_columns_selector = selector(dtype_include=object)\n",
        "categorical_columns = categorical_columns_selector(df)\n",
        "print(categorical_columns)\n",
        "df_categorical = df[categorical_columns]\n",
        "df_categorical.head()\n",
        "country_column = df_categorical[['country_code']]\n",
        "encoder = OrdinalEncoder().set_output(transform='pandas')\n",
        "country_encoded=encoder.fit_transform(country_column)\n",
        "country_encoded"
      ],
      "metadata": {
        "id": "Vut1aGVux26-",
        "colab": {
          "base_uri": "https://localhost:8080/",
          "height": 442
        },
        "outputId": "8f24c3e2-8c3a-444f-de9c-ed1f4df65cfc"
      },
      "execution_count": 13,
      "outputs": [
        {
          "output_type": "stream",
          "name": "stdout",
          "text": [
            "['status', 'first_funding_at', 'country_code', 'category_list']\n"
          ]
        },
        {
          "output_type": "execute_result",
          "data": {
            "text/plain": [
              "       country_code\n",
              "15             74.0\n",
              "20             74.0\n",
              "23             74.0\n",
              "31             74.0\n",
              "32             74.0\n",
              "...             ...\n",
              "66349          19.0\n",
              "66350          74.0\n",
              "66352          74.0\n",
              "66358          46.0\n",
              "66360          74.0\n",
              "\n",
              "[10734 rows x 1 columns]"
            ],
            "text/html": [
              "\n",
              "  <div id=\"df-0559f46a-c6db-4f6d-ae92-46ea3c2f2e1a\">\n",
              "    <div class=\"colab-df-container\">\n",
              "      <div>\n",
              "<style scoped>\n",
              "    .dataframe tbody tr th:only-of-type {\n",
              "        vertical-align: middle;\n",
              "    }\n",
              "\n",
              "    .dataframe tbody tr th {\n",
              "        vertical-align: top;\n",
              "    }\n",
              "\n",
              "    .dataframe thead th {\n",
              "        text-align: right;\n",
              "    }\n",
              "</style>\n",
              "<table border=\"1\" class=\"dataframe\">\n",
              "  <thead>\n",
              "    <tr style=\"text-align: right;\">\n",
              "      <th></th>\n",
              "      <th>country_code</th>\n",
              "    </tr>\n",
              "  </thead>\n",
              "  <tbody>\n",
              "    <tr>\n",
              "      <th>15</th>\n",
              "      <td>74.0</td>\n",
              "    </tr>\n",
              "    <tr>\n",
              "      <th>20</th>\n",
              "      <td>74.0</td>\n",
              "    </tr>\n",
              "    <tr>\n",
              "      <th>23</th>\n",
              "      <td>74.0</td>\n",
              "    </tr>\n",
              "    <tr>\n",
              "      <th>31</th>\n",
              "      <td>74.0</td>\n",
              "    </tr>\n",
              "    <tr>\n",
              "      <th>32</th>\n",
              "      <td>74.0</td>\n",
              "    </tr>\n",
              "    <tr>\n",
              "      <th>...</th>\n",
              "      <td>...</td>\n",
              "    </tr>\n",
              "    <tr>\n",
              "      <th>66349</th>\n",
              "      <td>19.0</td>\n",
              "    </tr>\n",
              "    <tr>\n",
              "      <th>66350</th>\n",
              "      <td>74.0</td>\n",
              "    </tr>\n",
              "    <tr>\n",
              "      <th>66352</th>\n",
              "      <td>74.0</td>\n",
              "    </tr>\n",
              "    <tr>\n",
              "      <th>66358</th>\n",
              "      <td>46.0</td>\n",
              "    </tr>\n",
              "    <tr>\n",
              "      <th>66360</th>\n",
              "      <td>74.0</td>\n",
              "    </tr>\n",
              "  </tbody>\n",
              "</table>\n",
              "<p>10734 rows × 1 columns</p>\n",
              "</div>\n",
              "      <button class=\"colab-df-convert\" onclick=\"convertToInteractive('df-0559f46a-c6db-4f6d-ae92-46ea3c2f2e1a')\"\n",
              "              title=\"Convert this dataframe to an interactive table.\"\n",
              "              style=\"display:none;\">\n",
              "        \n",
              "  <svg xmlns=\"http://www.w3.org/2000/svg\" height=\"24px\"viewBox=\"0 0 24 24\"\n",
              "       width=\"24px\">\n",
              "    <path d=\"M0 0h24v24H0V0z\" fill=\"none\"/>\n",
              "    <path d=\"M18.56 5.44l.94 2.06.94-2.06 2.06-.94-2.06-.94-.94-2.06-.94 2.06-2.06.94zm-11 1L8.5 8.5l.94-2.06 2.06-.94-2.06-.94L8.5 2.5l-.94 2.06-2.06.94zm10 10l.94 2.06.94-2.06 2.06-.94-2.06-.94-.94-2.06-.94 2.06-2.06.94z\"/><path d=\"M17.41 7.96l-1.37-1.37c-.4-.4-.92-.59-1.43-.59-.52 0-1.04.2-1.43.59L10.3 9.45l-7.72 7.72c-.78.78-.78 2.05 0 2.83L4 21.41c.39.39.9.59 1.41.59.51 0 1.02-.2 1.41-.59l7.78-7.78 2.81-2.81c.8-.78.8-2.07 0-2.86zM5.41 20L4 18.59l7.72-7.72 1.47 1.35L5.41 20z\"/>\n",
              "  </svg>\n",
              "      </button>\n",
              "      \n",
              "  <style>\n",
              "    .colab-df-container {\n",
              "      display:flex;\n",
              "      flex-wrap:wrap;\n",
              "      gap: 12px;\n",
              "    }\n",
              "\n",
              "    .colab-df-convert {\n",
              "      background-color: #E8F0FE;\n",
              "      border: none;\n",
              "      border-radius: 50%;\n",
              "      cursor: pointer;\n",
              "      display: none;\n",
              "      fill: #1967D2;\n",
              "      height: 32px;\n",
              "      padding: 0 0 0 0;\n",
              "      width: 32px;\n",
              "    }\n",
              "\n",
              "    .colab-df-convert:hover {\n",
              "      background-color: #E2EBFA;\n",
              "      box-shadow: 0px 1px 2px rgba(60, 64, 67, 0.3), 0px 1px 3px 1px rgba(60, 64, 67, 0.15);\n",
              "      fill: #174EA6;\n",
              "    }\n",
              "\n",
              "    [theme=dark] .colab-df-convert {\n",
              "      background-color: #3B4455;\n",
              "      fill: #D2E3FC;\n",
              "    }\n",
              "\n",
              "    [theme=dark] .colab-df-convert:hover {\n",
              "      background-color: #434B5C;\n",
              "      box-shadow: 0px 1px 3px 1px rgba(0, 0, 0, 0.15);\n",
              "      filter: drop-shadow(0px 1px 2px rgba(0, 0, 0, 0.3));\n",
              "      fill: #FFFFFF;\n",
              "    }\n",
              "  </style>\n",
              "\n",
              "      <script>\n",
              "        const buttonEl =\n",
              "          document.querySelector('#df-0559f46a-c6db-4f6d-ae92-46ea3c2f2e1a button.colab-df-convert');\n",
              "        buttonEl.style.display =\n",
              "          google.colab.kernel.accessAllowed ? 'block' : 'none';\n",
              "\n",
              "        async function convertToInteractive(key) {\n",
              "          const element = document.querySelector('#df-0559f46a-c6db-4f6d-ae92-46ea3c2f2e1a');\n",
              "          const dataTable =\n",
              "            await google.colab.kernel.invokeFunction('convertToInteractive',\n",
              "                                                     [key], {});\n",
              "          if (!dataTable) return;\n",
              "\n",
              "          const docLinkHtml = 'Like what you see? Visit the ' +\n",
              "            '<a target=\"_blank\" href=https://colab.research.google.com/notebooks/data_table.ipynb>data table notebook</a>'\n",
              "            + ' to learn more about interactive tables.';\n",
              "          element.innerHTML = '';\n",
              "          dataTable['output_type'] = 'display_data';\n",
              "          await google.colab.output.renderOutput(dataTable, element);\n",
              "          const docLink = document.createElement('div');\n",
              "          docLink.innerHTML = docLinkHtml;\n",
              "          element.appendChild(docLink);\n",
              "        }\n",
              "      </script>\n",
              "    </div>\n",
              "  </div>\n",
              "  "
            ]
          },
          "metadata": {},
          "execution_count": 13
        }
      ]
    },
    {
      "cell_type": "code",
      "source": [
        "df.country_code.value_counts().plot.bar(figsize=(14,5))\n",
        "plt.title('Startups by Country')\n",
        "plt.xlabel('Country')\n",
        "plt.ylabel('Startup Companies')"
      ],
      "metadata": {
        "id": "zpMfr2PITBJ-",
        "colab": {
          "base_uri": "https://localhost:8080/",
          "height": 524
        },
        "outputId": "5df97490-1d18-4fcd-cf35-5fadf6cc978e"
      },
      "execution_count": 14,
      "outputs": [
        {
          "output_type": "execute_result",
          "data": {
            "text/plain": [
              "Text(0, 0.5, 'Startup Companies')"
            ]
          },
          "metadata": {},
          "execution_count": 14
        },
        {
          "output_type": "display_data",
          "data": {
            "text/plain": [
              "<Figure size 1400x500 with 1 Axes>"
            ],
            "image/png": "[encoded data removed]"
          },
          "metadata": {}
        }
      ]
    },
    {
      "cell_type": "code",
      "source": [
        "# Change category_list to only include one main category and add column of unique category_id's\n",
        "df['category_list'] = df['category_list'].str.split('|').str[0]\n",
        "df['category_list'].value_counts().head(15)\n",
        "cat_list = df.category_list.values.tolist()\n",
        "temp = defaultdict(lambda: len(temp))\n",
        "res = [temp[ele] for ele in cat_list]\n",
        "df['category_id'] = res\n",
        "df['category_id']"
      ],
      "metadata": {
        "id": "n9lyWEwumaue",
        "colab": {
          "base_uri": "https://localhost:8080/"
        },
        "outputId": "f3a30a5d-96d5-4a8c-fb24-66e36bb6d9d3"
      },
      "execution_count": 15,
      "outputs": [
        {
          "output_type": "execute_result",
          "data": {
            "text/plain": [
              "15         0\n",
              "20         1\n",
              "23         2\n",
              "31         3\n",
              "32         4\n",
              "        ... \n",
              "66349     48\n",
              "66350    103\n",
              "66352    238\n",
              "66358     13\n",
              "66360     13\n",
              "Name: category_id, Length: 10734, dtype: int64"
            ]
          },
          "metadata": {},
          "execution_count": 15
        }
      ]
    },
    {
      "cell_type": "code",
      "source": [
        "# Look at the data by year\n",
        "\n",
        "df['year'] = pd.to_datetime(df['first_funding_at']).dt.year.astype(int)\n",
        "#df['year'] = pd.to_datetime(df['year'], format='%Y')\n",
        "\n",
        "\n",
        "sf_by_year = df.groupby(df['year'])[['status_success',\n",
        "                                             'status_fail']].sum().rename(columns={'status_success' : 'total_success',\n",
        "                                                                                   'status_fail' : 'total_fail'})\n",
        "sf_by_year['total'] = sf_by_year.sum(axis=1)\n",
        "sf_by_year['success_ratio'] = (sf_by_year['total_success']/sf_by_year['total']).round(2)\n",
        "sf_by_year['fail_ratio'] = (sf_by_year['total_fail']/sf_by_year['total']).round(2)\n",
        "sf_by_year['funding_median'] = df.groupby(df['year'])['funding_total_usd'].median()\n",
        "sf_by_year.sort_values(by='year', ascending=False).head(25)"
      ],
      "metadata": {
        "id": "gZPXDEKJ_QER",
        "colab": {
          "base_uri": "https://localhost:8080/",
          "height": 865
        },
        "outputId": "1a65329a-77f0-42aa-a4d8-12e71af17487"
      },
      "execution_count": 16,
      "outputs": [
        {
          "output_type": "execute_result",
          "data": {
            "text/plain": [
              "      total_success  total_fail  total  success_ratio  fail_ratio  \\\n",
              "year                                                                \n",
              "2015            117         440    557           0.21        0.79   \n",
              "2014            299         290    589           0.51        0.49   \n",
              "2013            343         343    686           0.50        0.50   \n",
              "2012            391         467    858           0.46        0.54   \n",
              "2011            508         460    968           0.52        0.48   \n",
              "2010            609         456   1065           0.57        0.43   \n",
              "2009            559         390    949           0.59        0.41   \n",
              "2008            455         417    872           0.52        0.48   \n",
              "2007            605         376    981           0.62        0.38   \n",
              "2006            537         234    771           0.70        0.30   \n",
              "2005            520         198    718           0.72        0.28   \n",
              "2004            310         111    421           0.74        0.26   \n",
              "2003            285          99    384           0.74        0.26   \n",
              "2002            200          65    265           0.75        0.25   \n",
              "2001            202         102    304           0.66        0.34   \n",
              "2000            133          50    183           0.73        0.27   \n",
              "1999             96          11    107           0.90        0.10   \n",
              "1998             15           3     18           0.83        0.17   \n",
              "1997              4           2      6           0.67        0.33   \n",
              "1996              8           5     13           0.62        0.38   \n",
              "1995              5           0      5           1.00        0.00   \n",
              "1994              1           2      3           0.33        0.67   \n",
              "1992              0           1      1           0.00        1.00   \n",
              "1987              1           1      2           0.50        0.50   \n",
              "1985              1           2      3           0.33        0.67   \n",
              "\n",
              "      funding_median  \n",
              "year                  \n",
              "2015    5.000000e+05  \n",
              "2014    2.300000e+06  \n",
              "2013    1.500000e+06  \n",
              "2012    1.000000e+06  \n",
              "2011    1.641000e+06  \n",
              "2010    3.000000e+06  \n",
              "2009    5.300000e+06  \n",
              "2008    5.500000e+06  \n",
              "2007    9.533642e+06  \n",
              "2006    1.265000e+07  \n",
              "2005    1.320000e+07  \n",
              "2004    2.013079e+07  \n",
              "2003    1.802353e+07  \n",
              "2002    2.000000e+07  \n",
              "2001    1.800000e+07  \n",
              "2000    2.400000e+07  \n",
              "1999    2.600000e+07  \n",
              "1998    2.630000e+07  \n",
              "1997    1.310000e+07  \n",
              "1996    2.876583e+07  \n",
              "1995    4.000000e+07  \n",
              "1994    1.000000e+06  \n",
              "1992    4.980000e+05  \n",
              "1987    1.488000e+06  \n",
              "1985    6.660000e+05  "
            ],
            "text/html": [
              "\n",
              "  <div id=\"df-f32d1099-5932-485d-ba98-f9b14dbc1004\">\n",
              "    <div class=\"colab-df-container\">\n",
              "      <div>\n",
              "<style scoped>\n",
              "    .dataframe tbody tr th:only-of-type {\n",
              "        vertical-align: middle;\n",
              "    }\n",
              "\n",
              "    .dataframe tbody tr th {\n",
              "        vertical-align: top;\n",
              "    }\n",
              "\n",
              "    .dataframe thead th {\n",
              "        text-align: right;\n",
              "    }\n",
              "</style>\n",
              "<table border=\"1\" class=\"dataframe\">\n",
              "  <thead>\n",
              "    <tr style=\"text-align: right;\">\n",
              "      <th></th>\n",
              "      <th>total_success</th>\n",
              "      <th>total_fail</th>\n",
              "      <th>total</th>\n",
              "      <th>success_ratio</th>\n",
              "      <th>fail_ratio</th>\n",
              "      <th>funding_median</th>\n",
              "    </tr>\n",
              "    <tr>\n",
              "      <th>year</th>\n",
              "      <th></th>\n",
              "      <th></th>\n",
              "      <th></th>\n",
              "      <th></th>\n",
              "      <th></th>\n",
              "      <th></th>\n",
              "    </tr>\n",
              "  </thead>\n",
              "  <tbody>\n",
              "    <tr>\n",
              "      <th>2015</th>\n",
              "      <td>117</td>\n",
              "      <td>440</td>\n",
              "      <td>557</td>\n",
              "      <td>0.21</td>\n",
              "      <td>0.79</td>\n",
              "      <td>5.000000e+05</td>\n",
              "    </tr>\n",
              "    <tr>\n",
              "      <th>2014</th>\n",
              "      <td>299</td>\n",
              "      <td>290</td>\n",
              "      <td>589</td>\n",
              "      <td>0.51</td>\n",
              "      <td>0.49</td>\n",
              "      <td>2.300000e+06</td>\n",
              "    </tr>\n",
              "    <tr>\n",
              "      <th>2013</th>\n",
              "      <td>343</td>\n",
              "      <td>343</td>\n",
              "      <td>686</td>\n",
              "      <td>0.50</td>\n",
              "      <td>0.50</td>\n",
              "      <td>1.500000e+06</td>\n",
              "    </tr>\n",
              "    <tr>\n",
              "      <th>2012</th>\n",
              "      <td>391</td>\n",
              "      <td>467</td>\n",
              "      <td>858</td>\n",
              "      <td>0.46</td>\n",
              "      <td>0.54</td>\n",
              "      <td>1.000000e+06</td>\n",
              "    </tr>\n",
              "    <tr>\n",
              "      <th>2011</th>\n",
              "      <td>508</td>\n",
              "      <td>460</td>\n",
              "      <td>968</td>\n",
              "      <td>0.52</td>\n",
              "      <td>0.48</td>\n",
              "      <td>1.641000e+06</td>\n",
              "    </tr>\n",
              "    <tr>\n",
              "      <th>2010</th>\n",
              "      <td>609</td>\n",
              "      <td>456</td>\n",
              "      <td>1065</td>\n",
              "      <td>0.57</td>\n",
              "      <td>0.43</td>\n",
              "      <td>3.000000e+06</td>\n",
              "    </tr>\n",
              "    <tr>\n",
              "      <th>2009</th>\n",
              "      <td>559</td>\n",
              "      <td>390</td>\n",
              "      <td>949</td>\n",
              "      <td>0.59</td>\n",
              "      <td>0.41</td>\n",
              "      <td>5.300000e+06</td>\n",
              "    </tr>\n",
              "    <tr>\n",
              "      <th>2008</th>\n",
              "      <td>455</td>\n",
              "      <td>417</td>\n",
              "      <td>872</td>\n",
              "      <td>0.52</td>\n",
              "      <td>0.48</td>\n",
              "      <td>5.500000e+06</td>\n",
              "    </tr>\n",
              "    <tr>\n",
              "      <th>2007</th>\n",
              "      <td>605</td>\n",
              "      <td>376</td>\n",
              "      <td>981</td>\n",
              "      <td>0.62</td>\n",
              "      <td>0.38</td>\n",
              "      <td>9.533642e+06</td>\n",
              "    </tr>\n",
              "    <tr>\n",
              "      <th>2006</th>\n",
              "      <td>537</td>\n",
              "      <td>234</td>\n",
              "      <td>771</td>\n",
              "      <td>0.70</td>\n",
              "      <td>0.30</td>\n",
              "      <td>1.265000e+07</td>\n",
              "    </tr>\n",
              "    <tr>\n",
              "      <th>2005</th>\n",
              "      <td>520</td>\n",
              "      <td>198</td>\n",
              "      <td>718</td>\n",
              "      <td>0.72</td>\n",
              "      <td>0.28</td>\n",
              "      <td>1.320000e+07</td>\n",
              "    </tr>\n",
              "    <tr>\n",
              "      <th>2004</th>\n",
              "      <td>310</td>\n",
              "      <td>111</td>\n",
              "      <td>421</td>\n",
              "      <td>0.74</td>\n",
              "      <td>0.26</td>\n",
              "      <td>2.013079e+07</td>\n",
              "    </tr>\n",
              "    <tr>\n",
              "      <th>2003</th>\n",
              "      <td>285</td>\n",
              "      <td>99</td>\n",
              "      <td>384</td>\n",
              "      <td>0.74</td>\n",
              "      <td>0.26</td>\n",
              "      <td>1.802353e+07</td>\n",
              "    </tr>\n",
              "    <tr>\n",
              "      <th>2002</th>\n",
              "      <td>200</td>\n",
              "      <td>65</td>\n",
              "      <td>265</td>\n",
              "      <td>0.75</td>\n",
              "      <td>0.25</td>\n",
              "      <td>2.000000e+07</td>\n",
              "    </tr>\n",
              "    <tr>\n",
              "      <th>2001</th>\n",
              "      <td>202</td>\n",
              "      <td>102</td>\n",
              "      <td>304</td>\n",
              "      <td>0.66</td>\n",
              "      <td>0.34</td>\n",
              "      <td>1.800000e+07</td>\n",
              "    </tr>\n",
              "    <tr>\n",
              "      <th>2000</th>\n",
              "      <td>133</td>\n",
              "      <td>50</td>\n",
              "      <td>183</td>\n",
              "      <td>0.73</td>\n",
              "      <td>0.27</td>\n",
              "      <td>2.400000e+07</td>\n",
              "    </tr>\n",
              "    <tr>\n",
              "      <th>1999</th>\n",
              "      <td>96</td>\n",
              "      <td>11</td>\n",
              "      <td>107</td>\n",
              "      <td>0.90</td>\n",
              "      <td>0.10</td>\n",
              "      <td>2.600000e+07</td>\n",
              "    </tr>\n",
              "    <tr>\n",
              "      <th>1998</th>\n",
              "      <td>15</td>\n",
              "      <td>3</td>\n",
              "      <td>18</td>\n",
              "      <td>0.83</td>\n",
              "      <td>0.17</td>\n",
              "      <td>2.630000e+07</td>\n",
              "    </tr>\n",
              "    <tr>\n",
              "      <th>1997</th>\n",
              "      <td>4</td>\n",
              "      <td>2</td>\n",
              "      <td>6</td>\n",
              "      <td>0.67</td>\n",
              "      <td>0.33</td>\n",
              "      <td>1.310000e+07</td>\n",
              "    </tr>\n",
              "    <tr>\n",
              "      <th>1996</th>\n",
              "      <td>8</td>\n",
              "      <td>5</td>\n",
              "      <td>13</td>\n",
              "      <td>0.62</td>\n",
              "      <td>0.38</td>\n",
              "      <td>2.876583e+07</td>\n",
              "    </tr>\n",
              "    <tr>\n",
              "      <th>1995</th>\n",
              "      <td>5</td>\n",
              "      <td>0</td>\n",
              "      <td>5</td>\n",
              "      <td>1.00</td>\n",
              "      <td>0.00</td>\n",
              "      <td>4.000000e+07</td>\n",
              "    </tr>\n",
              "    <tr>\n",
              "      <th>1994</th>\n",
              "      <td>1</td>\n",
              "      <td>2</td>\n",
              "      <td>3</td>\n",
              "      <td>0.33</td>\n",
              "      <td>0.67</td>\n",
              "      <td>1.000000e+06</td>\n",
              "    </tr>\n",
              "    <tr>\n",
              "      <th>1992</th>\n",
              "      <td>0</td>\n",
              "      <td>1</td>\n",
              "      <td>1</td>\n",
              "      <td>0.00</td>\n",
              "      <td>1.00</td>\n",
              "      <td>4.980000e+05</td>\n",
              "    </tr>\n",
              "    <tr>\n",
              "      <th>1987</th>\n",
              "      <td>1</td>\n",
              "      <td>1</td>\n",
              "      <td>2</td>\n",
              "      <td>0.50</td>\n",
              "      <td>0.50</td>\n",
              "      <td>1.488000e+06</td>\n",
              "    </tr>\n",
              "    <tr>\n",
              "      <th>1985</th>\n",
              "      <td>1</td>\n",
              "      <td>2</td>\n",
              "      <td>3</td>\n",
              "      <td>0.33</td>\n",
              "      <td>0.67</td>\n",
              "      <td>6.660000e+05</td>\n",
              "    </tr>\n",
              "  </tbody>\n",
              "</table>\n",
              "</div>\n",
              "      <button class=\"colab-df-convert\" onclick=\"convertToInteractive('df-f32d1099-5932-485d-ba98-f9b14dbc1004')\"\n",
              "              title=\"Convert this dataframe to an interactive table.\"\n",
              "              style=\"display:none;\">\n",
              "        \n",
              "  <svg xmlns=\"http://www.w3.org/2000/svg\" height=\"24px\"viewBox=\"0 0 24 24\"\n",
              "       width=\"24px\">\n",
              "    <path d=\"M0 0h24v24H0V0z\" fill=\"none\"/>\n",
              "    <path d=\"M18.56 5.44l.94 2.06.94-2.06 2.06-.94-2.06-.94-.94-2.06-.94 2.06-2.06.94zm-11 1L8.5 8.5l.94-2.06 2.06-.94-2.06-.94L8.5 2.5l-.94 2.06-2.06.94zm10 10l.94 2.06.94-2.06 2.06-.94-2.06-.94-.94-2.06-.94 2.06-2.06.94z\"/><path d=\"M17.41 7.96l-1.37-1.37c-.4-.4-.92-.59-1.43-.59-.52 0-1.04.2-1.43.59L10.3 9.45l-7.72 7.72c-.78.78-.78 2.05 0 2.83L4 21.41c.39.39.9.59 1.41.59.51 0 1.02-.2 1.41-.59l7.78-7.78 2.81-2.81c.8-.78.8-2.07 0-2.86zM5.41 20L4 18.59l7.72-7.72 1.47 1.35L5.41 20z\"/>\n",
              "  </svg>\n",
              "      </button>\n",
              "      \n",
              "  <style>\n",
              "    .colab-df-container {\n",
              "      display:flex;\n",
              "      flex-wrap:wrap;\n",
              "      gap: 12px;\n",
              "    }\n",
              "\n",
              "    .colab-df-convert {\n",
              "      background-color: #E8F0FE;\n",
              "      border: none;\n",
              "      border-radius: 50%;\n",
              "      cursor: pointer;\n",
              "      display: none;\n",
              "      fill: #1967D2;\n",
              "      height: 32px;\n",
              "      padding: 0 0 0 0;\n",
              "      width: 32px;\n",
              "    }\n",
              "\n",
              "    .colab-df-convert:hover {\n",
              "      background-color: #E2EBFA;\n",
              "      box-shadow: 0px 1px 2px rgba(60, 64, 67, 0.3), 0px 1px 3px 1px rgba(60, 64, 67, 0.15);\n",
              "      fill: #174EA6;\n",
              "    }\n",
              "\n",
              "    [theme=dark] .colab-df-convert {\n",
              "      background-color: #3B4455;\n",
              "      fill: #D2E3FC;\n",
              "    }\n",
              "\n",
              "    [theme=dark] .colab-df-convert:hover {\n",
              "      background-color: #434B5C;\n",
              "      box-shadow: 0px 1px 3px 1px rgba(0, 0, 0, 0.15);\n",
              "      filter: drop-shadow(0px 1px 2px rgba(0, 0, 0, 0.3));\n",
              "      fill: #FFFFFF;\n",
              "    }\n",
              "  </style>\n",
              "\n",
              "      <script>\n",
              "        const buttonEl =\n",
              "          document.querySelector('#df-f32d1099-5932-485d-ba98-f9b14dbc1004 button.colab-df-convert');\n",
              "        buttonEl.style.display =\n",
              "          google.colab.kernel.accessAllowed ? 'block' : 'none';\n",
              "\n",
              "        async function convertToInteractive(key) {\n",
              "          const element = document.querySelector('#df-f32d1099-5932-485d-ba98-f9b14dbc1004');\n",
              "          const dataTable =\n",
              "            await google.colab.kernel.invokeFunction('convertToInteractive',\n",
              "                                                     [key], {});\n",
              "          if (!dataTable) return;\n",
              "\n",
              "          const docLinkHtml = 'Like what you see? Visit the ' +\n",
              "            '<a target=\"_blank\" href=https://colab.research.google.com/notebooks/data_table.ipynb>data table notebook</a>'\n",
              "            + ' to learn more about interactive tables.';\n",
              "          element.innerHTML = '';\n",
              "          dataTable['output_type'] = 'display_data';\n",
              "          await google.colab.output.renderOutput(dataTable, element);\n",
              "          const docLink = document.createElement('div');\n",
              "          docLink.innerHTML = docLinkHtml;\n",
              "          element.appendChild(docLink);\n",
              "        }\n",
              "      </script>\n",
              "    </div>\n",
              "  </div>\n",
              "  "
            ]
          },
          "metadata": {},
          "execution_count": 16
        }
      ]
    },
    {
      "cell_type": "code",
      "source": [
        "# Look at the data by category\n",
        "sf_by_cat = df.groupby(df['category_id'])[['status_success',\n",
        "                                             'status_fail']].sum().rename(columns={'status_success' : 'total_success',\n",
        "                                                                                   'status_fail' : 'total_fail'})\n",
        "sf_by_cat['total'] = sf_by_cat.sum(axis=1)\n",
        "sf_by_cat['success_ratio'] = (sf_by_cat['total_success']/sf_by_cat['total']).round(2)\n",
        "sf_by_cat['fail_ratio'] = (sf_by_cat['total_fail']/sf_by_cat['total']).round(2)\n",
        "sf_by_cat.sort_values(by='total_success', ascending=False).head(25)\n"
      ],
      "metadata": {
        "colab": {
          "base_uri": "https://localhost:8080/",
          "height": 865
        },
        "id": "Ny4XZu4p3iwb",
        "outputId": "72a39993-6aad-48cf-ab53-42cfd6629180"
      },
      "execution_count": 17,
      "outputs": [
        {
          "output_type": "execute_result",
          "data": {
            "text/plain": [
              "             total_success  total_fail  total  success_ratio  fail_ratio\n",
              "category_id                                                             \n",
              "13                     811         256   1067           0.76        0.24\n",
              "4                      585         303    888           0.66        0.34\n",
              "8                      330         202    532           0.62        0.38\n",
              "5                      260          76    336           0.77        0.23\n",
              "2                      258         325    583           0.44        0.56\n",
              "34                     226         144    370           0.61        0.39\n",
              "3                      193          62    255           0.76        0.24\n",
              "17                     184         189    373           0.49        0.51\n",
              "57                     169          89    258           0.66        0.34\n",
              "27                     155          48    203           0.76        0.24\n",
              "63                     136          79    215           0.63        0.37\n",
              "10                     135         117    252           0.54        0.46\n",
              "9                      131         124    255           0.51        0.49\n",
              "32                     108          33    141           0.77        0.23\n",
              "28                      97          24    121           0.80        0.20\n",
              "15                      83          81    164           0.51        0.49\n",
              "48                      81          39    120           0.68        0.32\n",
              "58                      78          42    120           0.65        0.35\n",
              "0                       62         118    180           0.34        0.66\n",
              "14                      50          41     91           0.55        0.45\n",
              "25                      50          48     98           0.51        0.49\n",
              "76                      49          42     91           0.54        0.46\n",
              "37                      44          42     86           0.51        0.49\n",
              "110                     44          69    113           0.39        0.61\n",
              "64                      44          46     90           0.49        0.51"
            ],
            "text/html": [
              "\n",
              "  <div id=\"df-f8859fdb-82f3-4d12-8938-59d234710db5\">\n",
              "    <div class=\"colab-df-container\">\n",
              "      <div>\n",
              "<style scoped>\n",
              "    .dataframe tbody tr th:only-of-type {\n",
              "        vertical-align: middle;\n",
              "    }\n",
              "\n",
              "    .dataframe tbody tr th {\n",
              "        vertical-align: top;\n",
              "    }\n",
              "\n",
              "    .dataframe thead th {\n",
              "        text-align: right;\n",
              "    }\n",
              "</style>\n",
              "<table border=\"1\" class=\"dataframe\">\n",
              "  <thead>\n",
              "    <tr style=\"text-align: right;\">\n",
              "      <th></th>\n",
              "      <th>total_success</th>\n",
              "      <th>total_fail</th>\n",
              "      <th>total</th>\n",
              "      <th>success_ratio</th>\n",
              "      <th>fail_ratio</th>\n",
              "    </tr>\n",
              "    <tr>\n",
              "      <th>category_id</th>\n",
              "      <th></th>\n",
              "      <th></th>\n",
              "      <th></th>\n",
              "      <th></th>\n",
              "      <th></th>\n",
              "    </tr>\n",
              "  </thead>\n",
              "  <tbody>\n",
              "    <tr>\n",
              "      <th>13</th>\n",
              "      <td>811</td>\n",
              "      <td>256</td>\n",
              "      <td>1067</td>\n",
              "      <td>0.76</td>\n",
              "      <td>0.24</td>\n",
              "    </tr>\n",
              "    <tr>\n",
              "      <th>4</th>\n",
              "      <td>585</td>\n",
              "      <td>303</td>\n",
              "      <td>888</td>\n",
              "      <td>0.66</td>\n",
              "      <td>0.34</td>\n",
              "    </tr>\n",
              "    <tr>\n",
              "      <th>8</th>\n",
              "      <td>330</td>\n",
              "      <td>202</td>\n",
              "      <td>532</td>\n",
              "      <td>0.62</td>\n",
              "      <td>0.38</td>\n",
              "    </tr>\n",
              "    <tr>\n",
              "      <th>5</th>\n",
              "      <td>260</td>\n",
              "      <td>76</td>\n",
              "      <td>336</td>\n",
              "      <td>0.77</td>\n",
              "      <td>0.23</td>\n",
              "    </tr>\n",
              "    <tr>\n",
              "      <th>2</th>\n",
              "      <td>258</td>\n",
              "      <td>325</td>\n",
              "      <td>583</td>\n",
              "      <td>0.44</td>\n",
              "      <td>0.56</td>\n",
              "    </tr>\n",
              "    <tr>\n",
              "      <th>34</th>\n",
              "      <td>226</td>\n",
              "      <td>144</td>\n",
              "      <td>370</td>\n",
              "      <td>0.61</td>\n",
              "      <td>0.39</td>\n",
              "    </tr>\n",
              "    <tr>\n",
              "      <th>3</th>\n",
              "      <td>193</td>\n",
              "      <td>62</td>\n",
              "      <td>255</td>\n",
              "      <td>0.76</td>\n",
              "      <td>0.24</td>\n",
              "    </tr>\n",
              "    <tr>\n",
              "      <th>17</th>\n",
              "      <td>184</td>\n",
              "      <td>189</td>\n",
              "      <td>373</td>\n",
              "      <td>0.49</td>\n",
              "      <td>0.51</td>\n",
              "    </tr>\n",
              "    <tr>\n",
              "      <th>57</th>\n",
              "      <td>169</td>\n",
              "      <td>89</td>\n",
              "      <td>258</td>\n",
              "      <td>0.66</td>\n",
              "      <td>0.34</td>\n",
              "    </tr>\n",
              "    <tr>\n",
              "      <th>27</th>\n",
              "      <td>155</td>\n",
              "      <td>48</td>\n",
              "      <td>203</td>\n",
              "      <td>0.76</td>\n",
              "      <td>0.24</td>\n",
              "    </tr>\n",
              "    <tr>\n",
              "      <th>63</th>\n",
              "      <td>136</td>\n",
              "      <td>79</td>\n",
              "      <td>215</td>\n",
              "      <td>0.63</td>\n",
              "      <td>0.37</td>\n",
              "    </tr>\n",
              "    <tr>\n",
              "      <th>10</th>\n",
              "      <td>135</td>\n",
              "      <td>117</td>\n",
              "      <td>252</td>\n",
              "      <td>0.54</td>\n",
              "      <td>0.46</td>\n",
              "    </tr>\n",
              "    <tr>\n",
              "      <th>9</th>\n",
              "      <td>131</td>\n",
              "      <td>124</td>\n",
              "      <td>255</td>\n",
              "      <td>0.51</td>\n",
              "      <td>0.49</td>\n",
              "    </tr>\n",
              "    <tr>\n",
              "      <th>32</th>\n",
              "      <td>108</td>\n",
              "      <td>33</td>\n",
              "      <td>141</td>\n",
              "      <td>0.77</td>\n",
              "      <td>0.23</td>\n",
              "    </tr>\n",
              "    <tr>\n",
              "      <th>28</th>\n",
              "      <td>97</td>\n",
              "      <td>24</td>\n",
              "      <td>121</td>\n",
              "      <td>0.80</td>\n",
              "      <td>0.20</td>\n",
              "    </tr>\n",
              "    <tr>\n",
              "      <th>15</th>\n",
              "      <td>83</td>\n",
              "      <td>81</td>\n",
              "      <td>164</td>\n",
              "      <td>0.51</td>\n",
              "      <td>0.49</td>\n",
              "    </tr>\n",
              "    <tr>\n",
              "      <th>48</th>\n",
              "      <td>81</td>\n",
              "      <td>39</td>\n",
              "      <td>120</td>\n",
              "      <td>0.68</td>\n",
              "      <td>0.32</td>\n",
              "    </tr>\n",
              "    <tr>\n",
              "      <th>58</th>\n",
              "      <td>78</td>\n",
              "      <td>42</td>\n",
              "      <td>120</td>\n",
              "      <td>0.65</td>\n",
              "      <td>0.35</td>\n",
              "    </tr>\n",
              "    <tr>\n",
              "      <th>0</th>\n",
              "      <td>62</td>\n",
              "      <td>118</td>\n",
              "      <td>180</td>\n",
              "      <td>0.34</td>\n",
              "      <td>0.66</td>\n",
              "    </tr>\n",
              "    <tr>\n",
              "      <th>14</th>\n",
              "      <td>50</td>\n",
              "      <td>41</td>\n",
              "      <td>91</td>\n",
              "      <td>0.55</td>\n",
              "      <td>0.45</td>\n",
              "    </tr>\n",
              "    <tr>\n",
              "      <th>25</th>\n",
              "      <td>50</td>\n",
              "      <td>48</td>\n",
              "      <td>98</td>\n",
              "      <td>0.51</td>\n",
              "      <td>0.49</td>\n",
              "    </tr>\n",
              "    <tr>\n",
              "      <th>76</th>\n",
              "      <td>49</td>\n",
              "      <td>42</td>\n",
              "      <td>91</td>\n",
              "      <td>0.54</td>\n",
              "      <td>0.46</td>\n",
              "    </tr>\n",
              "    <tr>\n",
              "      <th>37</th>\n",
              "      <td>44</td>\n",
              "      <td>42</td>\n",
              "      <td>86</td>\n",
              "      <td>0.51</td>\n",
              "      <td>0.49</td>\n",
              "    </tr>\n",
              "    <tr>\n",
              "      <th>110</th>\n",
              "      <td>44</td>\n",
              "      <td>69</td>\n",
              "      <td>113</td>\n",
              "      <td>0.39</td>\n",
              "      <td>0.61</td>\n",
              "    </tr>\n",
              "    <tr>\n",
              "      <th>64</th>\n",
              "      <td>44</td>\n",
              "      <td>46</td>\n",
              "      <td>90</td>\n",
              "      <td>0.49</td>\n",
              "      <td>0.51</td>\n",
              "    </tr>\n",
              "  </tbody>\n",
              "</table>\n",
              "</div>\n",
              "      <button class=\"colab-df-convert\" onclick=\"convertToInteractive('df-f8859fdb-82f3-4d12-8938-59d234710db5')\"\n",
              "              title=\"Convert this dataframe to an interactive table.\"\n",
              "              style=\"display:none;\">\n",
              "        \n",
              "  <svg xmlns=\"http://www.w3.org/2000/svg\" height=\"24px\"viewBox=\"0 0 24 24\"\n",
              "       width=\"24px\">\n",
              "    <path d=\"M0 0h24v24H0V0z\" fill=\"none\"/>\n",
              "    <path d=\"M18.56 5.44l.94 2.06.94-2.06 2.06-.94-2.06-.94-.94-2.06-.94 2.06-2.06.94zm-11 1L8.5 8.5l.94-2.06 2.06-.94-2.06-.94L8.5 2.5l-.94 2.06-2.06.94zm10 10l.94 2.06.94-2.06 2.06-.94-2.06-.94-.94-2.06-.94 2.06-2.06.94z\"/><path d=\"M17.41 7.96l-1.37-1.37c-.4-.4-.92-.59-1.43-.59-.52 0-1.04.2-1.43.59L10.3 9.45l-7.72 7.72c-.78.78-.78 2.05 0 2.83L4 21.41c.39.39.9.59 1.41.59.51 0 1.02-.2 1.41-.59l7.78-7.78 2.81-2.81c.8-.78.8-2.07 0-2.86zM5.41 20L4 18.59l7.72-7.72 1.47 1.35L5.41 20z\"/>\n",
              "  </svg>\n",
              "      </button>\n",
              "      \n",
              "  <style>\n",
              "    .colab-df-container {\n",
              "      display:flex;\n",
              "      flex-wrap:wrap;\n",
              "      gap: 12px;\n",
              "    }\n",
              "\n",
              "    .colab-df-convert {\n",
              "      background-color: #E8F0FE;\n",
              "      border: none;\n",
              "      border-radius: 50%;\n",
              "      cursor: pointer;\n",
              "      display: none;\n",
              "      fill: #1967D2;\n",
              "      height: 32px;\n",
              "      padding: 0 0 0 0;\n",
              "      width: 32px;\n",
              "    }\n",
              "\n",
              "    .colab-df-convert:hover {\n",
              "      background-color: #E2EBFA;\n",
              "      box-shadow: 0px 1px 2px rgba(60, 64, 67, 0.3), 0px 1px 3px 1px rgba(60, 64, 67, 0.15);\n",
              "      fill: #174EA6;\n",
              "    }\n",
              "\n",
              "    [theme=dark] .colab-df-convert {\n",
              "      background-color: #3B4455;\n",
              "      fill: #D2E3FC;\n",
              "    }\n",
              "\n",
              "    [theme=dark] .colab-df-convert:hover {\n",
              "      background-color: #434B5C;\n",
              "      box-shadow: 0px 1px 3px 1px rgba(0, 0, 0, 0.15);\n",
              "      filter: drop-shadow(0px 1px 2px rgba(0, 0, 0, 0.3));\n",
              "      fill: #FFFFFF;\n",
              "    }\n",
              "  </style>\n",
              "\n",
              "      <script>\n",
              "        const buttonEl =\n",
              "          document.querySelector('#df-f8859fdb-82f3-4d12-8938-59d234710db5 button.colab-df-convert');\n",
              "        buttonEl.style.display =\n",
              "          google.colab.kernel.accessAllowed ? 'block' : 'none';\n",
              "\n",
              "        async function convertToInteractive(key) {\n",
              "          const element = document.querySelector('#df-f8859fdb-82f3-4d12-8938-59d234710db5');\n",
              "          const dataTable =\n",
              "            await google.colab.kernel.invokeFunction('convertToInteractive',\n",
              "                                                     [key], {});\n",
              "          if (!dataTable) return;\n",
              "\n",
              "          const docLinkHtml = 'Like what you see? Visit the ' +\n",
              "            '<a target=\"_blank\" href=https://colab.research.google.com/notebooks/data_table.ipynb>data table notebook</a>'\n",
              "            + ' to learn more about interactive tables.';\n",
              "          element.innerHTML = '';\n",
              "          dataTable['output_type'] = 'display_data';\n",
              "          await google.colab.output.renderOutput(dataTable, element);\n",
              "          const docLink = document.createElement('div');\n",
              "          docLink.innerHTML = docLinkHtml;\n",
              "          element.appendChild(docLink);\n",
              "        }\n",
              "      </script>\n",
              "    </div>\n",
              "  </div>\n",
              "  "
            ]
          },
          "metadata": {},
          "execution_count": 17
        }
      ]
    },
    {
      "cell_type": "markdown",
      "source": [
        "##Data Visualization"
      ],
      "metadata": {
        "id": "NoHxBbBL7Dsh"
      }
    },
    {
      "cell_type": "markdown",
      "source": [
        "Visualize the total funding issued based on the company status."
      ],
      "metadata": {
        "id": "WrKMpHMlYe2B"
      }
    },
    {
      "cell_type": "code",
      "source": [
        "sns.heatmap(df.corr(), cmap='Blues')"
      ],
      "metadata": {
        "id": "hNYwIoPNUFsc",
        "colab": {
          "base_uri": "https://localhost:8080/",
          "height": 619
        },
        "outputId": "c7586121-de3b-4732-d454-f660ab9e5576"
      },
      "execution_count": 18,
      "outputs": [
        {
          "output_type": "stream",
          "name": "stderr",
          "text": [
            "<ipython-input-18-7b05aed90e02>:1: FutureWarning: The default value of numeric_only in DataFrame.corr is deprecated. In a future version, it will default to False. Select only valid columns or specify the value of numeric_only to silence this warning.\n",
            "  sns.heatmap(df.corr(), cmap='Blues')\n"
          ]
        },
        {
          "output_type": "execute_result",
          "data": {
            "text/plain": [
              "<Axes: >"
            ]
          },
          "metadata": {},
          "execution_count": 18
        },
        {
          "output_type": "display_data",
          "data": {
            "text/plain": [
              "<Figure size 640x480 with 2 Axes>"
            ],
            "image/png": "[encoded data removed]"
          },
          "metadata": {}
        }
      ]
    },
    {
      "cell_type": "markdown",
      "source": [
        "Visualization of successes vs failures."
      ],
      "metadata": {
        "id": "941WICo0p6Bh"
      }
    },
    {
      "cell_type": "code",
      "source": [
        "# Success, fail, and operating rates visualization\n",
        "\n",
        "successes = df['status_success'].value_counts()\n",
        "total_comps = successes[0] + successes[1]\n",
        "success_percent = (successes[1] / total_comps)\n",
        "failure_percent = (successes[0] / total_comps)\n",
        "print(f'Out of {total_comps} companies, {successes[1]} or {success_percent:.2%} succeeded, while {successes[0]} or {failure_percent:.2%} failed.')\n",
        "ax = sns.countplot(data=df, x='status')\n",
        "ax.bar_label(ax.containers[0])\n",
        "plt.ylabel('Number of Companies')\n",
        "plt.title('Successes and Failures')"
      ],
      "metadata": {
        "id": "9QnYjtaTPyi4",
        "colab": {
          "base_uri": "https://localhost:8080/",
          "height": 508
        },
        "outputId": "12611a58-2ee8-4591-b054-20bf8952066f"
      },
      "execution_count": 19,
      "outputs": [
        {
          "output_type": "stream",
          "name": "stdout",
          "text": [
            "Out of 10734 companies, 6207 or 57.83% succeeded, while 4527 or 42.17% failed.\n"
          ]
        },
        {
          "output_type": "execute_result",
          "data": {
            "text/plain": [
              "Text(0.5, 1.0, 'Successes and Failures')"
            ]
          },
          "metadata": {},
          "execution_count": 19
        },
        {
          "output_type": "display_data",
          "data": {
            "text/plain": [
              "<Figure size 640x480 with 1 Axes>"
            ],
            "image/png": "[encoded data removed]"
          },
          "metadata": {}
        }
      ]
    },
    {
      "cell_type": "markdown",
      "source": [
        "Visualization of the failures and successes by the number of funding rounds."
      ],
      "metadata": {
        "id": "mVLqJ3PiY47T"
      }
    },
    {
      "cell_type": "code",
      "source": [
        "# Median Funding Total by Status\n",
        "\n",
        "successful_companies = df[df['status_success']==1]\n",
        "failed_companies = df[df['status_fail']==1]\n",
        "colors = ['green', 'orange']\n",
        "\n",
        "plt.bar(['Success', 'Fail'], [successful_companies['funding_total_usd'].median(),\n",
        "                              failed_companies['funding_total_usd'].median()],color=colors)\n",
        "\n",
        "\n",
        "\n",
        "#funding_median.plot.bar(color=colors)\n",
        "plt.title('Median Funding Total by Status')\n",
        "plt.xlabel('Status')\n",
        "plt.ylabel('Median Funding Total(USD)')\n",
        "plt.xticks(rotation=0)\n",
        "plt.ticklabel_format(style='plain', axis='y')\n"
      ],
      "metadata": {
        "id": "gE9PuuZnkPZy",
        "colab": {
          "base_uri": "https://localhost:8080/",
          "height": 472
        },
        "outputId": "b2cd39b4-ea3d-4f8f-d6f7-03ebe77b8b94"
      },
      "execution_count": 20,
      "outputs": [
        {
          "output_type": "display_data",
          "data": {
            "text/plain": [
              "<Figure size 640x480 with 1 Axes>"
            ],
            "image/png": "[encoded data removed]"
          },
          "metadata": {}
        }
      ]
    },
    {
      "cell_type": "markdown",
      "source": [
        "Visualization of the amount funded by funding round."
      ],
      "metadata": {
        "id": "VhEFnBsxYzrC"
      }
    },
    {
      "cell_type": "code",
      "source": [
        "# Bar plot of count of funding rounds\n",
        "sns.countplot(data=df, x='funding_rounds')\n",
        "plt.yscale('log')\n",
        "plt.title('Count of Funding Rounds')\n",
        "plt.xlabel('Number of Funding Rounds')\n",
        "plt.ylabel('Count')"
      ],
      "metadata": {
        "id": "_6IwcH9y-Ns9",
        "colab": {
          "base_uri": "https://localhost:8080/",
          "height": 490
        },
        "outputId": "e7714561-4974-49a3-ac32-e3cb360bab91"
      },
      "execution_count": 21,
      "outputs": [
        {
          "output_type": "execute_result",
          "data": {
            "text/plain": [
              "Text(0, 0.5, 'Count')"
            ]
          },
          "metadata": {},
          "execution_count": 21
        },
        {
          "output_type": "display_data",
          "data": {
            "text/plain": [
              "<Figure size 640x480 with 1 Axes>"
            ],
            "image/png": "[encoded data removed]"
          },
          "metadata": {}
        }
      ]
    },
    {
      "cell_type": "code",
      "source": [
        "# filter out years prior to 1990 because of low counts\n",
        "filter_df =  sf_by_year.loc[sf_by_year.index > 1990]\n",
        "\n",
        "# create stacked bar plot visualizing ratio of success to failure by year\n",
        "plt.bar(filter_df.index, filter_df['total_success'])\n",
        "plt.bar(filter_df.index, filter_df['total_fail'], bottom=filter_df['total_success'])\n",
        "\n",
        "plt.legend(['Success', 'Fail'])\n",
        "plt.title(\"Success vs. Failure by Year\")\n",
        "plt.ylabel('Year')\n",
        "plt.xlabel('Counts')"
      ],
      "metadata": {
        "id": "3Pn8hdm5l5rE",
        "colab": {
          "base_uri": "https://localhost:8080/",
          "height": 490
        },
        "outputId": "d44ead94-cee4-4a94-d0b6-8a634c9331b6"
      },
      "execution_count": 22,
      "outputs": [
        {
          "output_type": "execute_result",
          "data": {
            "text/plain": [
              "Text(0.5, 0, 'Counts')"
            ]
          },
          "metadata": {},
          "execution_count": 22
        },
        {
          "output_type": "display_data",
          "data": {
            "text/plain": [
              "<Figure size 640x480 with 1 Axes>"
            ],
            "image/png": "[encoded data removed]"
          },
          "metadata": {}
        }
      ]
    },
    {
      "cell_type": "code",
      "source": [
        "# filter out years prior to 1990 because of low counts\n",
        "filter_df =  sf_by_cat.loc[sf_by_cat.index > 0]\n",
        "\n",
        "# create stacked bar plot visualizing ratio of success to failure by year\n",
        "plt.bar(filter_df.index, filter_df['total_success'])\n",
        "plt.bar(filter_df.index, filter_df['total_fail'], bottom=filter_df['total_success'])\n",
        "\n",
        "plt.legend(['Success', 'Fail'])\n",
        "plt.title(\"Success vs. Failure by Category\")\n",
        "plt.ylabel('Category')\n",
        "plt.xlabel('Counts')"
      ],
      "metadata": {
        "colab": {
          "base_uri": "https://localhost:8080/",
          "height": 490
        },
        "id": "Zj1eZYyU3AGy",
        "outputId": "0bad8edf-d3ed-407b-8272-4844a09f4db3"
      },
      "execution_count": 23,
      "outputs": [
        {
          "output_type": "execute_result",
          "data": {
            "text/plain": [
              "Text(0.5, 0, 'Counts')"
            ]
          },
          "metadata": {},
          "execution_count": 23
        },
        {
          "output_type": "display_data",
          "data": {
            "text/plain": [
              "<Figure size 640x480 with 1 Axes>"
            ],
            "image/png": "[encoded data removed]"
          },
          "metadata": {}
        }
      ]
    },
    {
      "cell_type": "code",
      "source": [
        "sns.kdeplot(data=df, x=df['funding_total_usd'].astype(int), color='b').set(xlabel='Funding (dollars)', ylabel='', title='Funding Amounts')\n",
        "plt.legend(labels=['Funding Amount'])"
      ],
      "metadata": {
        "id": "qA4PvGVCxON4",
        "colab": {
          "base_uri": "https://localhost:8080/",
          "height": 490
        },
        "outputId": "6be89092-3f9c-4c58-fae1-cd9656c5ebf0"
      },
      "execution_count": 24,
      "outputs": [
        {
          "output_type": "execute_result",
          "data": {
            "text/plain": [
              "<matplotlib.legend.Legend at 0x7f1e62a074c0>"
            ]
          },
          "metadata": {},
          "execution_count": 24
        },
        {
          "output_type": "display_data",
          "data": {
            "text/plain": [
              "<Figure size 640x480 with 1 Axes>"
            ],
            "image/png": "[encoded data removed]"
          },
          "metadata": {}
        }
      ]
    },
    {
      "cell_type": "code",
      "source": [
        "grouped = df.groupby(['funding_rounds', 'status']).size().unstack()\n",
        "grouped.plot(kind='bar')\n",
        "\n",
        "plt.yscale('log')\n",
        "plt.xlabel('Funding Rounds')\n",
        "plt.ylabel('Count')\n",
        "plt.title('Count of Success and Fail by Funding Rounds')"
      ],
      "metadata": {
        "colab": {
          "base_uri": "https://localhost:8080/",
          "height": 493
        },
        "id": "vCrqNyT7vH_j",
        "outputId": "4a5e2ea0-758a-40ad-da6c-8a98ae39dd26"
      },
      "execution_count": 25,
      "outputs": [
        {
          "output_type": "execute_result",
          "data": {
            "text/plain": [
              "Text(0.5, 1.0, 'Count of Success and Fail by Funding Rounds')"
            ]
          },
          "metadata": {},
          "execution_count": 25
        },
        {
          "output_type": "display_data",
          "data": {
            "text/plain": [
              "<Figure size 640x480 with 1 Axes>"
            ],
            "image/png": "[encoded data removed]"
          },
          "metadata": {}
        }
      ]
    },
    {
      "cell_type": "markdown",
      "source": [
        "\n",
        "#Machine Learning"
      ],
      "metadata": {
        "id": "DJgeP75z5Tr-"
      }
    },
    {
      "cell_type": "code",
      "source": [
        "#function to plot actual vs predicted values\n",
        "# Inputs:\n",
        "#   actual - np.array of the actual data values\n",
        "#   predicted - np.array of predicted data values\n",
        "#   title - string of the plot title\n",
        "\n",
        "def plot_actual_predicted(actual, predicted, title):\n",
        "    plt.title(title)\n",
        "    plt.ylabel('predicted')\n",
        "    plt.xlabel('actual')\n",
        "    plt.scatter(actual, predicted, edgecolors='white')\n",
        "    a = min(np.min(actual), np.min(predicted))\n",
        "    b = max(np.max(actual), np.max(predicted))\n",
        "    plt.plot([a,b], [a,b], linewidth=2, linestyle='dashed', color='black')"
      ],
      "metadata": {
        "id": "FOfpSTCpq6Ly"
      },
      "execution_count": 26,
      "outputs": []
    },
    {
      "cell_type": "code",
      "source": [
        "predictors = ['funding_total_usd', 'funding_rounds']\n",
        "X = df[predictors].values\n",
        "y = (df['status_success'])\n",
        "\n",
        "# create training and test sets\n",
        "X_train, X_test, y_train, y_test =  train_test_split(X, y, test_size=0.30, random_state=42)\n",
        "\n",
        "reg = LinearRegression()\n",
        "reg.fit(X_test, y_test)\n",
        "\n",
        "predictions = reg.predict(X_test)\n",
        "plot_actual_predicted( y_test, predictions, 'Business success based on funding totals and rounds.')\n",
        "rmse = np.sqrt(((y_test - predictions)**2).mean())\n",
        "\n",
        "print('RMSE: {:.2f}'.format(rmse))\n",
        "print('intercept: {:.2f}'.format(reg.intercept_))\n",
        "print('r-squared value: {:.2f}'.format(reg.score(X, y)))\n",
        "print('coefficients:')\n",
        "reg.coef_"
      ],
      "metadata": {
        "id": "WNP3nPymvYDB",
        "colab": {
          "base_uri": "https://localhost:8080/",
          "height": 561
        },
        "outputId": "31e7a8d4-08c9-4d49-e21b-6e074247ec50"
      },
      "execution_count": 27,
      "outputs": [
        {
          "output_type": "stream",
          "name": "stdout",
          "text": [
            "RMSE: 0.48\n",
            "intercept: 0.39\n",
            "r-squared value: 0.07\n",
            "coefficients:\n"
          ]
        },
        {
          "output_type": "execute_result",
          "data": {
            "text/plain": [
              "array([1.86590225e-10, 8.50009345e-02])"
            ]
          },
          "metadata": {},
          "execution_count": 27
        },
        {
          "output_type": "display_data",
          "data": {
            "text/plain": [
              "<Figure size 640x480 with 1 Axes>"
            ],
            "image/png": "[encoded data removed]"
          },
          "metadata": {}
        }
      ]
    },
    {
      "cell_type": "markdown",
      "source": [
        "###KNeighbors Classification"
      ],
      "metadata": {
        "id": "orvSlR2R3Dnb"
      }
    },
    {
      "cell_type": "code",
      "source": [
        "# convert features to NumPy array\n",
        "predictors = ['funding_total_usd', 'funding_rounds']\n",
        "X = df[predictors].values\n",
        "y = (df['status_success'])\n",
        "\n",
        "# create training and test sets\n",
        "X_train, X_test, y_train, y_test =  train_test_split(X, y, test_size=0.30, random_state=42)\n",
        "\n",
        "# scale the data\n",
        "scaler = StandardScaler()\n",
        "X_train = scaler.fit_transform(X_train)\n",
        "X_test  = scaler.transform(X_test)\n",
        "\n",
        "# KNN classification\n",
        "knn = KNeighborsClassifier(n_neighbors=5)\n",
        "knn.fit(X_train, y_train)\n",
        "predictions = knn.predict(X_test)\n",
        "accuracy = accuracy_score(y_test, predictions)\n",
        "print('Accuracy: ',(accuracy*100).round(2), '%' )\n"
      ],
      "metadata": {
        "id": "HXeosT_x5HVs",
        "colab": {
          "base_uri": "https://localhost:8080/"
        },
        "outputId": "617447f8-3082-47f8-df9c-eb9b44561dac"
      },
      "execution_count": 28,
      "outputs": [
        {
          "output_type": "stream",
          "name": "stdout",
          "text": [
            "Accuracy:  68.36 %\n"
          ]
        }
      ]
    },
    {
      "cell_type": "code",
      "source": [
        "# convert features to NumPy array\n",
        "predictors = ['category_id']\n",
        "X = df[predictors].values\n",
        "y = (df['status_success'])\n",
        "\n",
        "# create training and test sets\n",
        "X_train, X_test, y_train, y_test =  train_test_split(X, y, test_size=0.30, random_state=42)\n",
        "\n",
        "# scale the data\n",
        "scaler = StandardScaler()\n",
        "X_train = scaler.fit_transform(X_train)\n",
        "X_test  = scaler.transform(X_test)\n",
        "\n",
        "# KNN classification\n",
        "knn = KNeighborsClassifier(n_neighbors=5)\n",
        "knn.fit(X_train, y_train)\n",
        "predictions = knn.predict(X_test)\n",
        "accuracy = accuracy_score(y_test, predictions)\n",
        "print('Accuracy: ',(accuracy*100).round(2), '%' )\n"
      ],
      "metadata": {
        "colab": {
          "base_uri": "https://localhost:8080/"
        },
        "id": "8zbEYD_c1mlM",
        "outputId": "506b4978-475d-470f-84bf-a90323b3d686"
      },
      "execution_count": 29,
      "outputs": [
        {
          "output_type": "stream",
          "name": "stdout",
          "text": [
            "Accuracy:  60.48 %\n"
          ]
        }
      ]
    },
    {
      "cell_type": "code",
      "source": [
        "# convert features to NumPy array\n",
        "predictors = ['funding_total_usd', 'funding_rounds', 'category_id']\n",
        "X = df[predictors].values\n",
        "y = (df['status_success'])\n",
        "\n",
        "# create training and test sets\n",
        "X_train, X_test, y_train, y_test =  train_test_split(X, y, test_size=0.30, random_state=42)\n",
        "\n",
        "# scale the data\n",
        "scaler = StandardScaler()\n",
        "X_train = scaler.fit_transform(X_train)\n",
        "X_test  = scaler.transform(X_test)\n",
        "\n",
        "# KNN classification\n",
        "knn = KNeighborsClassifier(n_neighbors=5)\n",
        "knn.fit(X_train, y_train)\n",
        "predictions = knn.predict(X_test)\n",
        "accuracy = accuracy_score(y_test, predictions)\n",
        "print('Accuracy: ',(accuracy*100).round(2), '%' )\n"
      ],
      "metadata": {
        "colab": {
          "base_uri": "https://localhost:8080/"
        },
        "id": "cD3qU9Ii1s0B",
        "outputId": "c19fe531-2201-405d-c9d3-84be4aa67f6e"
      },
      "execution_count": 30,
      "outputs": [
        {
          "output_type": "stream",
          "name": "stdout",
          "text": [
            "Accuracy:  68.64 %\n"
          ]
        }
      ]
    },
    {
      "cell_type": "code",
      "source": [
        "def rmse(predicted, actual):\n",
        "    return np.sqrt(((predicted - actual)**2).mean())\n",
        "\n",
        "def get_train_test_rmse(regr, X_train, X_test, y_train, y_test):\n",
        "    # YOUR CODE HERE\n",
        "    regr.fit(X_train, y_train)\n",
        "    rmse_tr = rmse(regr.predict(X_train), y_train)\n",
        "    rmse_te = rmse(regr.predict(X_test), y_test)\n",
        "    return(rmse_tr, rmse_te)\n",
        "\n",
        "n = 30\n",
        "test_rmse = []\n",
        "train_rmse = []\n",
        "accuracy_tests = []\n",
        "\n",
        "ks = np.arange(1, n+1, 2)\n",
        "for k in ks:\n",
        "    print(k, ' ', end='')\n",
        "    regr = KNeighborsClassifier(n_neighbors=k, algorithm='brute')\n",
        "    regr.fit(X_train, y_train)\n",
        "    rmse_tr, rmse_te = get_train_test_rmse(regr, X_train, X_test, y_train, y_test)\n",
        "    accuracy = (regr.predict(X_test) == y_test).mean()\n",
        "    print('k =', k, ' accuracy {:.2%}'.format(accuracy))\n",
        "    train_rmse.append(rmse_tr)\n",
        "    test_rmse.append(rmse_te)\n",
        "    accuracy_tests.append(accuracy)\n",
        "\n",
        "plt.plot(ks, test_rmse)\n",
        "plt.plot(ks, train_rmse)\n",
        "plt.xlabel('K Value')\n",
        "plt.ylabel('RMSE')\n",
        "plt.title('RMSE vs K Value')\n",
        "plt.legend(['Test RMSE', 'Train RMSE'])\n"
      ],
      "metadata": {
        "id": "NZ7n3JQVg6eA",
        "colab": {
          "base_uri": "https://localhost:8080/",
          "height": 758
        },
        "outputId": "1a4672ea-9a78-43e2-cc1c-0d045435b428"
      },
      "execution_count": 31,
      "outputs": [
        {
          "output_type": "stream",
          "name": "stdout",
          "text": [
            "1  k = 1  accuracy 63.43%\n",
            "3  k = 3  accuracy 67.40%\n",
            "5  k = 5  accuracy 68.64%\n",
            "7  k = 7  accuracy 69.39%\n",
            "9  k = 9  accuracy 69.39%\n",
            "11  k = 11  accuracy 69.76%\n",
            "13  k = 13  accuracy 70.13%\n",
            "15  k = 15  accuracy 69.85%\n",
            "17  k = 17  accuracy 70.07%\n",
            "19  k = 19  accuracy 69.30%\n",
            "21  k = 21  accuracy 68.98%\n",
            "23  k = 23  accuracy 68.67%\n",
            "25  k = 25  accuracy 68.77%\n",
            "27  k = 27  accuracy 69.33%\n",
            "29  k = 29  accuracy 68.89%\n"
          ]
        },
        {
          "output_type": "execute_result",
          "data": {
            "text/plain": [
              "<matplotlib.legend.Legend at 0x7f1e65900040>"
            ]
          },
          "metadata": {},
          "execution_count": 31
        },
        {
          "output_type": "display_data",
          "data": {
            "text/plain": [
              "<Figure size 640x480 with 1 Axes>"
            ],
            "image/png": "[encoded data removed]"
          },
          "metadata": {}
        }
      ]
    },
    {
      "cell_type": "code",
      "source": [
        "# confusion matrix\n",
        "conf_matrix = confusion_matrix(y_test, predictions)\n",
        "\n",
        "sns.heatmap(conf_matrix, cmap='coolwarm', fmt='d', annot=True)\n",
        "\n",
        "plt.ylabel('Actual Success')\n",
        "plt.xlabel('Predicted Success')\n",
        "plt.title('Confusion Matrix')"
      ],
      "metadata": {
        "id": "iNrSLSh75f5j",
        "colab": {
          "base_uri": "https://localhost:8080/",
          "height": 490
        },
        "outputId": "e822731a-7811-4cd2-a391-1b8c361d11e1"
      },
      "execution_count": 32,
      "outputs": [
        {
          "output_type": "execute_result",
          "data": {
            "text/plain": [
              "Text(0.5, 1.0, 'Confusion Matrix')"
            ]
          },
          "metadata": {},
          "execution_count": 32
        },
        {
          "output_type": "display_data",
          "data": {
            "text/plain": [
              "<Figure size 640x480 with 2 Axes>"
            ],
            "image/png": "[encoded data removed]"
          },
          "metadata": {}
        }
      ]
    },
    {
      "cell_type": "markdown",
      "source": [
        "###Decision Tree Classification"
      ],
      "metadata": {
        "id": "quFto-2k-W58"
      }
    },
    {
      "cell_type": "code",
      "source": [
        "# create NumPy arrays\n",
        "X = df[predictors].values\n",
        "y = df['status_success'].values\n",
        "\n",
        "# create training and test splits\n",
        "X_train, X_test, y_train, y_test = train_test_split(X, y, test_size=0.30, random_state=0)\n",
        "\n",
        "# train the tree model\n",
        "clf = DecisionTreeClassifier(max_depth=3, random_state=0)\n",
        "clf.fit(X_train, y_train)\n",
        "\n",
        "predict = clf.predict(X_test)\n",
        "\n",
        "rmse = np.sqrt((y_test - predictions)**2).mean()\n",
        "accuracy = accuracy_score(y_test, predictions)\n",
        "\n",
        "print('Accuracy: ',(accuracy*100).round(2), '%' )\n",
        "print('RMSE: ',rmse)\n"
      ],
      "metadata": {
        "id": "MLi8oZyi-e6R",
        "colab": {
          "base_uri": "https://localhost:8080/"
        },
        "outputId": "8325e585-1e31-4723-a246-d9d51c7fd30e"
      },
      "execution_count": 33,
      "outputs": [
        {
          "output_type": "stream",
          "name": "stdout",
          "text": [
            "Accuracy:  50.29 %\n",
            "RMSE:  0.49705060540204904\n"
          ]
        }
      ]
    },
    {
      "cell_type": "code",
      "source": [
        "target_names = ['Fail', 'Success']\n",
        "dot_data = export_graphviz(clf, precision=2,\n",
        "                     feature_names=predictors,\n",
        "                     proportion=True,\n",
        "                     class_names=target_names,\n",
        "                     filled=True, rounded=True,\n",
        "                     special_characters=True)\n",
        "\n",
        "# plot it\n",
        "graph = graphviz.Source(dot_data)\n",
        "graph\n",
        "\n",
        "\n"
      ],
      "metadata": {
        "id": "rqjBxXbw_9CE",
        "colab": {
          "base_uri": "https://localhost:8080/",
          "height": 598
        },
        "outputId": "65b71f3d-03f7-487c-9a00-7fc67c9997a9"
      },
      "execution_count": 34,
      "outputs": [
        {
          "output_type": "execute_result",
          "data": {
            "image/svg+xml": "<?xml version=\"1.0\" encoding=\"UTF-8\" standalone=\"no\"?>\n<!DOCTYPE svg PUBLIC \"-//W3C//DTD SVG 1.1//EN\"\n \"http://www.w3.org/Graphics/SVG/1.1/DTD/svg11.dtd\">\n<!-- Generated by graphviz version 2.43.0 (0)\n -->\n<!-- Title: Tree Pages: 1 -->\n<svg width=\"1190pt\" height=\"433pt\"\n viewBox=\"0.00 0.00 1190.00 433.00\" xmlns=\"http://www.w3.org/2000/svg\" xmlns:xlink=\"http://www.w3.org/1999/xlink\">\n<g id=\"graph0\" class=\"graph\" transform=\"scale(1 1) rotate(0) translate(4 429)\">\n<title>Tree</title>\n<polygon fill=\"white\" stroke=\"transparent\" points=\"-4,4 -4,-429 1186,-429 1186,4 -4,4\"/>\n<!-- 0 -->\n<g id=\"node1\" class=\"node\">\n<title>0</title>\n<path fill=\"#c8e4f8\" stroke=\"black\" d=\"M647,-425C647,-425 469,-425 469,-425 463,-425 457,-419 457,-413 457,-413 457,-354 457,-354 457,-348 463,-342 469,-342 469,-342 647,-342 647,-342 653,-342 659,-348 659,-354 659,-354 659,-413 659,-413 659,-419 653,-425 647,-425\"/>\n<text text-anchor=\"start\" x=\"465\" y=\"-409.8\" font-family=\"Helvetica,sans-Serif\" font-size=\"14.00\">funding_total_usd ≤ 1259008.0</text>\n<text text-anchor=\"start\" x=\"526\" y=\"-394.8\" font-family=\"Helvetica,sans-Serif\" font-size=\"14.00\">gini = 0.49</text>\n<text text-anchor=\"start\" x=\"501\" y=\"-379.8\" font-family=\"Helvetica,sans-Serif\" font-size=\"14.00\">samples = 100.0%</text>\n<text text-anchor=\"start\" x=\"500\" y=\"-364.8\" font-family=\"Helvetica,sans-Serif\" font-size=\"14.00\">value = [0.42, 0.58]</text>\n<text text-anchor=\"start\" x=\"509\" y=\"-349.8\" font-family=\"Helvetica,sans-Serif\" font-size=\"14.00\">class = Success</text>\n</g>\n<!-- 1 -->\n<g id=\"node2\" class=\"node\">\n<title>1</title>\n<path fill=\"#edaa79\" stroke=\"black\" d=\"M493,-306C493,-306 323,-306 323,-306 317,-306 311,-300 311,-294 311,-294 311,-235 311,-235 311,-229 317,-223 323,-223 323,-223 493,-223 493,-223 499,-223 505,-229 505,-235 505,-235 505,-294 505,-294 505,-300 499,-306 493,-306\"/>\n<text text-anchor=\"start\" x=\"319\" y=\"-290.8\" font-family=\"Helvetica,sans-Serif\" font-size=\"14.00\">funding_total_usd ≤ 340692.5</text>\n<text text-anchor=\"start\" x=\"376\" y=\"-275.8\" font-family=\"Helvetica,sans-Serif\" font-size=\"14.00\">gini = 0.37</text>\n<text text-anchor=\"start\" x=\"355\" y=\"-260.8\" font-family=\"Helvetica,sans-Serif\" font-size=\"14.00\">samples = 28.7%</text>\n<text text-anchor=\"start\" x=\"350\" y=\"-245.8\" font-family=\"Helvetica,sans-Serif\" font-size=\"14.00\">value = [0.76, 0.24]</text>\n<text text-anchor=\"start\" x=\"373.5\" y=\"-230.8\" font-family=\"Helvetica,sans-Serif\" font-size=\"14.00\">class = Fail</text>\n</g>\n<!-- 0&#45;&gt;1 -->\n<g id=\"edge1\" class=\"edge\">\n<title>0&#45;&gt;1</title>\n<path fill=\"none\" stroke=\"black\" d=\"M505.96,-341.91C493.74,-332.38 480.63,-322.15 468.09,-312.37\"/>\n<polygon fill=\"black\" stroke=\"black\" points=\"469.99,-309.41 459.95,-306.02 465.68,-314.93 469.99,-309.41\"/>\n<text text-anchor=\"middle\" x=\"463.02\" y=\"-327.13\" font-family=\"Helvetica,sans-Serif\" font-size=\"14.00\">True</text>\n</g>\n<!-- 8 -->\n<g id=\"node9\" class=\"node\">\n<title>8</title>\n<path fill=\"#87c4ef\" stroke=\"black\" d=\"M824,-306C824,-306 646,-306 646,-306 640,-306 634,-300 634,-294 634,-294 634,-235 634,-235 634,-229 640,-223 646,-223 646,-223 824,-223 824,-223 830,-223 836,-229 836,-235 836,-235 836,-294 836,-294 836,-300 830,-306 824,-306\"/>\n<text text-anchor=\"start\" x=\"642\" y=\"-290.8\" font-family=\"Helvetica,sans-Serif\" font-size=\"14.00\">funding_total_usd ≤ 7853500.0</text>\n<text text-anchor=\"start\" x=\"703\" y=\"-275.8\" font-family=\"Helvetica,sans-Serif\" font-size=\"14.00\">gini = 0.41</text>\n<text text-anchor=\"start\" x=\"682\" y=\"-260.8\" font-family=\"Helvetica,sans-Serif\" font-size=\"14.00\">samples = 71.3%</text>\n<text text-anchor=\"start\" x=\"677\" y=\"-245.8\" font-family=\"Helvetica,sans-Serif\" font-size=\"14.00\">value = [0.28, 0.72]</text>\n<text text-anchor=\"start\" x=\"686\" y=\"-230.8\" font-family=\"Helvetica,sans-Serif\" font-size=\"14.00\">class = Success</text>\n</g>\n<!-- 0&#45;&gt;8 -->\n<g id=\"edge8\" class=\"edge\">\n<title>0&#45;&gt;8</title>\n<path fill=\"none\" stroke=\"black\" d=\"M619.41,-341.91C634.1,-332.2 649.89,-321.76 664.94,-311.81\"/>\n<polygon fill=\"black\" stroke=\"black\" points=\"667.29,-314.45 673.7,-306.02 663.43,-308.62 667.29,-314.45\"/>\n<text text-anchor=\"middle\" x=\"668.7\" y=\"-326.82\" font-family=\"Helvetica,sans-Serif\" font-size=\"14.00\">False</text>\n</g>\n<!-- 2 -->\n<g id=\"node3\" class=\"node\">\n<title>2</title>\n<path fill=\"#ea995e\" stroke=\"black\" d=\"M270,-187C270,-187 162,-187 162,-187 156,-187 150,-181 150,-175 150,-175 150,-116 150,-116 150,-110 156,-104 162,-104 162,-104 270,-104 270,-104 276,-104 282,-110 282,-116 282,-116 282,-175 282,-175 282,-181 276,-187 270,-187\"/>\n<text text-anchor=\"start\" x=\"160\" y=\"-171.8\" font-family=\"Helvetica,sans-Serif\" font-size=\"14.00\">category_id ≤ 18.5</text>\n<text text-anchor=\"start\" x=\"184\" y=\"-156.8\" font-family=\"Helvetica,sans-Serif\" font-size=\"14.00\">gini = 0.27</text>\n<text text-anchor=\"start\" x=\"163\" y=\"-141.8\" font-family=\"Helvetica,sans-Serif\" font-size=\"14.00\">samples = 16.2%</text>\n<text text-anchor=\"start\" x=\"158\" y=\"-126.8\" font-family=\"Helvetica,sans-Serif\" font-size=\"14.00\">value = [0.84, 0.16]</text>\n<text text-anchor=\"start\" x=\"181.5\" y=\"-111.8\" font-family=\"Helvetica,sans-Serif\" font-size=\"14.00\">class = Fail</text>\n</g>\n<!-- 1&#45;&gt;2 -->\n<g id=\"edge2\" class=\"edge\">\n<title>1&#45;&gt;2</title>\n<path fill=\"none\" stroke=\"black\" d=\"M341.39,-222.91C325.06,-212.96 307.48,-202.25 290.8,-192.08\"/>\n<polygon fill=\"black\" stroke=\"black\" points=\"292.53,-189.04 282.17,-186.82 288.89,-195.02 292.53,-189.04\"/>\n</g>\n<!-- 5 -->\n<g id=\"node6\" class=\"node\">\n<title>5</title>\n<path fill=\"#f3c6a6\" stroke=\"black\" d=\"M462,-187C462,-187 354,-187 354,-187 348,-187 342,-181 342,-175 342,-175 342,-116 342,-116 342,-110 348,-104 354,-104 354,-104 462,-104 462,-104 468,-104 474,-110 474,-116 474,-116 474,-175 474,-175 474,-181 468,-187 462,-187\"/>\n<text text-anchor=\"start\" x=\"352\" y=\"-171.8\" font-family=\"Helvetica,sans-Serif\" font-size=\"14.00\">category_id ≤ 13.5</text>\n<text text-anchor=\"start\" x=\"376\" y=\"-156.8\" font-family=\"Helvetica,sans-Serif\" font-size=\"14.00\">gini = 0.46</text>\n<text text-anchor=\"start\" x=\"355\" y=\"-141.8\" font-family=\"Helvetica,sans-Serif\" font-size=\"14.00\">samples = 12.6%</text>\n<text text-anchor=\"start\" x=\"350\" y=\"-126.8\" font-family=\"Helvetica,sans-Serif\" font-size=\"14.00\">value = [0.64, 0.36]</text>\n<text text-anchor=\"start\" x=\"373.5\" y=\"-111.8\" font-family=\"Helvetica,sans-Serif\" font-size=\"14.00\">class = Fail</text>\n</g>\n<!-- 1&#45;&gt;5 -->\n<g id=\"edge5\" class=\"edge\">\n<title>1&#45;&gt;5</title>\n<path fill=\"none\" stroke=\"black\" d=\"M408,-222.91C408,-214.65 408,-205.86 408,-197.3\"/>\n<polygon fill=\"black\" stroke=\"black\" points=\"411.5,-197.02 408,-187.02 404.5,-197.02 411.5,-197.02\"/>\n</g>\n<!-- 3 -->\n<g id=\"node4\" class=\"node\">\n<title>3</title>\n<path fill=\"#eda774\" stroke=\"black\" d=\"M120,-68C120,-68 12,-68 12,-68 6,-68 0,-62 0,-56 0,-56 0,-12 0,-12 0,-6 6,0 12,0 12,0 120,0 120,0 126,0 132,-6 132,-12 132,-12 132,-56 132,-56 132,-62 126,-68 120,-68\"/>\n<text text-anchor=\"start\" x=\"34\" y=\"-52.8\" font-family=\"Helvetica,sans-Serif\" font-size=\"14.00\">gini = 0.35</text>\n<text text-anchor=\"start\" x=\"16.5\" y=\"-37.8\" font-family=\"Helvetica,sans-Serif\" font-size=\"14.00\">samples = 6.6%</text>\n<text text-anchor=\"start\" x=\"8\" y=\"-22.8\" font-family=\"Helvetica,sans-Serif\" font-size=\"14.00\">value = [0.77, 0.23]</text>\n<text text-anchor=\"start\" x=\"31.5\" y=\"-7.8\" font-family=\"Helvetica,sans-Serif\" font-size=\"14.00\">class = Fail</text>\n</g>\n<!-- 2&#45;&gt;3 -->\n<g id=\"edge3\" class=\"edge\">\n<title>2&#45;&gt;3</title>\n<path fill=\"none\" stroke=\"black\" d=\"M160.15,-103.73C147.03,-94.15 133.07,-83.96 120.03,-74.44\"/>\n<polygon fill=\"black\" stroke=\"black\" points=\"121.76,-71.37 111.62,-68.3 117.63,-77.02 121.76,-71.37\"/>\n</g>\n<!-- 4 -->\n<g id=\"node5\" class=\"node\">\n<title>4</title>\n<path fill=\"#e89051\" stroke=\"black\" d=\"M270,-68C270,-68 162,-68 162,-68 156,-68 150,-62 150,-56 150,-56 150,-12 150,-12 150,-6 156,0 162,0 162,0 270,0 270,0 276,0 282,-6 282,-12 282,-12 282,-56 282,-56 282,-62 276,-68 270,-68\"/>\n<text text-anchor=\"start\" x=\"184\" y=\"-52.8\" font-family=\"Helvetica,sans-Serif\" font-size=\"14.00\">gini = 0.19</text>\n<text text-anchor=\"start\" x=\"166.5\" y=\"-37.8\" font-family=\"Helvetica,sans-Serif\" font-size=\"14.00\">samples = 9.5%</text>\n<text text-anchor=\"start\" x=\"158\" y=\"-22.8\" font-family=\"Helvetica,sans-Serif\" font-size=\"14.00\">value = [0.89, 0.11]</text>\n<text text-anchor=\"start\" x=\"181.5\" y=\"-7.8\" font-family=\"Helvetica,sans-Serif\" font-size=\"14.00\">class = Fail</text>\n</g>\n<!-- 2&#45;&gt;4 -->\n<g id=\"edge4\" class=\"edge\">\n<title>2&#45;&gt;4</title>\n<path fill=\"none\" stroke=\"black\" d=\"M216,-103.73C216,-95.52 216,-86.86 216,-78.56\"/>\n<polygon fill=\"black\" stroke=\"black\" points=\"219.5,-78.3 216,-68.3 212.5,-78.3 219.5,-78.3\"/>\n</g>\n<!-- 6 -->\n<g id=\"node7\" class=\"node\">\n<title>6</title>\n<path fill=\"#f7dac5\" stroke=\"black\" d=\"M420,-68C420,-68 312,-68 312,-68 306,-68 300,-62 300,-56 300,-56 300,-12 300,-12 300,-6 306,0 312,0 312,0 420,0 420,0 426,0 432,-6 432,-12 432,-12 432,-56 432,-56 432,-62 426,-68 420,-68\"/>\n<text text-anchor=\"start\" x=\"334\" y=\"-52.8\" font-family=\"Helvetica,sans-Serif\" font-size=\"14.00\">gini = 0.49</text>\n<text text-anchor=\"start\" x=\"316.5\" y=\"-37.8\" font-family=\"Helvetica,sans-Serif\" font-size=\"14.00\">samples = 4.9%</text>\n<text text-anchor=\"start\" x=\"308\" y=\"-22.8\" font-family=\"Helvetica,sans-Serif\" font-size=\"14.00\">value = [0.59, 0.41]</text>\n<text text-anchor=\"start\" x=\"331.5\" y=\"-7.8\" font-family=\"Helvetica,sans-Serif\" font-size=\"14.00\">class = Fail</text>\n</g>\n<!-- 5&#45;&gt;6 -->\n<g id=\"edge6\" class=\"edge\">\n<title>5&#45;&gt;6</title>\n<path fill=\"none\" stroke=\"black\" d=\"M392.36,-103.73C389.11,-95.24 385.67,-86.28 382.39,-77.73\"/>\n<polygon fill=\"black\" stroke=\"black\" points=\"385.62,-76.38 378.77,-68.3 379.09,-78.89 385.62,-76.38\"/>\n</g>\n<!-- 7 -->\n<g id=\"node8\" class=\"node\">\n<title>7</title>\n<path fill=\"#f1bc95\" stroke=\"black\" d=\"M570,-68C570,-68 462,-68 462,-68 456,-68 450,-62 450,-56 450,-56 450,-12 450,-12 450,-6 456,0 462,0 462,0 570,0 570,0 576,0 582,-6 582,-12 582,-12 582,-56 582,-56 582,-62 576,-68 570,-68\"/>\n<text text-anchor=\"start\" x=\"484\" y=\"-52.8\" font-family=\"Helvetica,sans-Serif\" font-size=\"14.00\">gini = 0.43</text>\n<text text-anchor=\"start\" x=\"466.5\" y=\"-37.8\" font-family=\"Helvetica,sans-Serif\" font-size=\"14.00\">samples = 7.6%</text>\n<text text-anchor=\"start\" x=\"458\" y=\"-22.8\" font-family=\"Helvetica,sans-Serif\" font-size=\"14.00\">value = [0.68, 0.32]</text>\n<text text-anchor=\"start\" x=\"481.5\" y=\"-7.8\" font-family=\"Helvetica,sans-Serif\" font-size=\"14.00\">class = Fail</text>\n</g>\n<!-- 5&#45;&gt;7 -->\n<g id=\"edge7\" class=\"edge\">\n<title>5&#45;&gt;7</title>\n<path fill=\"none\" stroke=\"black\" d=\"M448.22,-103.73C457.3,-94.51 466.94,-84.74 476.02,-75.53\"/>\n<polygon fill=\"black\" stroke=\"black\" points=\"478.63,-77.88 483.16,-68.3 473.64,-72.96 478.63,-77.88\"/>\n</g>\n<!-- 9 -->\n<g id=\"node10\" class=\"node\">\n<title>9</title>\n<path fill=\"#c3e1f7\" stroke=\"black\" d=\"M794.5,-187C794.5,-187 675.5,-187 675.5,-187 669.5,-187 663.5,-181 663.5,-175 663.5,-175 663.5,-116 663.5,-116 663.5,-110 669.5,-104 675.5,-104 675.5,-104 794.5,-104 794.5,-104 800.5,-104 806.5,-110 806.5,-116 806.5,-116 806.5,-175 806.5,-175 806.5,-181 800.5,-187 794.5,-187\"/>\n<text text-anchor=\"start\" x=\"671.5\" y=\"-171.8\" font-family=\"Helvetica,sans-Serif\" font-size=\"14.00\">funding_rounds ≤ 1.5</text>\n<text text-anchor=\"start\" x=\"703\" y=\"-156.8\" font-family=\"Helvetica,sans-Serif\" font-size=\"14.00\">gini = 0.48</text>\n<text text-anchor=\"start\" x=\"682\" y=\"-141.8\" font-family=\"Helvetica,sans-Serif\" font-size=\"14.00\">samples = 25.8%</text>\n<text text-anchor=\"start\" x=\"677\" y=\"-126.8\" font-family=\"Helvetica,sans-Serif\" font-size=\"14.00\">value = [0.41, 0.59]</text>\n<text text-anchor=\"start\" x=\"686\" y=\"-111.8\" font-family=\"Helvetica,sans-Serif\" font-size=\"14.00\">class = Success</text>\n</g>\n<!-- 8&#45;&gt;9 -->\n<g id=\"edge9\" class=\"edge\">\n<title>8&#45;&gt;9</title>\n<path fill=\"none\" stroke=\"black\" d=\"M735,-222.91C735,-214.65 735,-205.86 735,-197.3\"/>\n<polygon fill=\"black\" stroke=\"black\" points=\"738.5,-197.02 735,-187.02 731.5,-197.02 738.5,-197.02\"/>\n</g>\n<!-- 12 -->\n<g id=\"node13\" class=\"node\">\n<title>12</title>\n<path fill=\"#6eb7ec\" stroke=\"black\" d=\"M1025.5,-187C1025.5,-187 906.5,-187 906.5,-187 900.5,-187 894.5,-181 894.5,-175 894.5,-175 894.5,-116 894.5,-116 894.5,-110 900.5,-104 906.5,-104 906.5,-104 1025.5,-104 1025.5,-104 1031.5,-104 1037.5,-110 1037.5,-116 1037.5,-116 1037.5,-175 1037.5,-175 1037.5,-181 1031.5,-187 1025.5,-187\"/>\n<text text-anchor=\"start\" x=\"902.5\" y=\"-171.8\" font-family=\"Helvetica,sans-Serif\" font-size=\"14.00\">funding_rounds ≤ 1.5</text>\n<text text-anchor=\"start\" x=\"934\" y=\"-156.8\" font-family=\"Helvetica,sans-Serif\" font-size=\"14.00\">gini = 0.33</text>\n<text text-anchor=\"start\" x=\"913\" y=\"-141.8\" font-family=\"Helvetica,sans-Serif\" font-size=\"14.00\">samples = 45.5%</text>\n<text text-anchor=\"start\" x=\"908\" y=\"-126.8\" font-family=\"Helvetica,sans-Serif\" font-size=\"14.00\">value = [0.21, 0.79]</text>\n<text text-anchor=\"start\" x=\"917\" y=\"-111.8\" font-family=\"Helvetica,sans-Serif\" font-size=\"14.00\">class = Success</text>\n</g>\n<!-- 8&#45;&gt;12 -->\n<g id=\"edge12\" class=\"edge\">\n<title>8&#45;&gt;12</title>\n<path fill=\"none\" stroke=\"black\" d=\"M815.14,-222.91C837.92,-211.37 862.73,-198.81 885.53,-187.26\"/>\n<polygon fill=\"black\" stroke=\"black\" points=\"887.15,-190.36 894.49,-182.72 883.99,-184.12 887.15,-190.36\"/>\n</g>\n<!-- 10 -->\n<g id=\"node11\" class=\"node\">\n<title>10</title>\n<path fill=\"#daedfa\" stroke=\"black\" d=\"M720,-68C720,-68 612,-68 612,-68 606,-68 600,-62 600,-56 600,-56 600,-12 600,-12 600,-6 606,0 612,0 612,0 720,0 720,0 726,0 732,-6 732,-12 732,-12 732,-56 732,-56 732,-62 726,-68 720,-68\"/>\n<text text-anchor=\"start\" x=\"634\" y=\"-52.8\" font-family=\"Helvetica,sans-Serif\" font-size=\"14.00\">gini = 0.49</text>\n<text text-anchor=\"start\" x=\"613\" y=\"-37.8\" font-family=\"Helvetica,sans-Serif\" font-size=\"14.00\">samples = 15.6%</text>\n<text text-anchor=\"start\" x=\"608\" y=\"-22.8\" font-family=\"Helvetica,sans-Serif\" font-size=\"14.00\">value = [0.45, 0.55]</text>\n<text text-anchor=\"start\" x=\"617\" y=\"-7.8\" font-family=\"Helvetica,sans-Serif\" font-size=\"14.00\">class = Success</text>\n</g>\n<!-- 9&#45;&gt;10 -->\n<g id=\"edge10\" class=\"edge\">\n<title>9&#45;&gt;10</title>\n<path fill=\"none\" stroke=\"black\" d=\"M709.31,-103.73C703.79,-94.97 697.95,-85.7 692.41,-76.91\"/>\n<polygon fill=\"black\" stroke=\"black\" points=\"695.28,-74.89 686.98,-68.3 689.35,-78.63 695.28,-74.89\"/>\n</g>\n<!-- 11 -->\n<g id=\"node12\" class=\"node\">\n<title>11</title>\n<path fill=\"#a4d2f3\" stroke=\"black\" d=\"M870,-68C870,-68 762,-68 762,-68 756,-68 750,-62 750,-56 750,-56 750,-12 750,-12 750,-6 756,0 762,0 762,0 870,0 870,0 876,0 882,-6 882,-12 882,-12 882,-56 882,-56 882,-62 876,-68 870,-68\"/>\n<text text-anchor=\"start\" x=\"784\" y=\"-52.8\" font-family=\"Helvetica,sans-Serif\" font-size=\"14.00\">gini = 0.46</text>\n<text text-anchor=\"start\" x=\"763\" y=\"-37.8\" font-family=\"Helvetica,sans-Serif\" font-size=\"14.00\">samples = 10.1%</text>\n<text text-anchor=\"start\" x=\"758\" y=\"-22.8\" font-family=\"Helvetica,sans-Serif\" font-size=\"14.00\">value = [0.35, 0.65]</text>\n<text text-anchor=\"start\" x=\"767\" y=\"-7.8\" font-family=\"Helvetica,sans-Serif\" font-size=\"14.00\">class = Success</text>\n</g>\n<!-- 9&#45;&gt;11 -->\n<g id=\"edge11\" class=\"edge\">\n<title>9&#45;&gt;11</title>\n<path fill=\"none\" stroke=\"black\" d=\"M765.16,-103.73C771.77,-94.79 778.78,-85.32 785.41,-76.36\"/>\n<polygon fill=\"black\" stroke=\"black\" points=\"788.23,-78.42 791.37,-68.3 782.61,-74.26 788.23,-78.42\"/>\n</g>\n<!-- 13 -->\n<g id=\"node14\" class=\"node\">\n<title>13</title>\n<path fill=\"#94caf1\" stroke=\"black\" d=\"M1020,-68C1020,-68 912,-68 912,-68 906,-68 900,-62 900,-56 900,-56 900,-12 900,-12 900,-6 906,0 912,0 912,0 1020,0 1020,0 1026,0 1032,-6 1032,-12 1032,-12 1032,-56 1032,-56 1032,-62 1026,-68 1020,-68\"/>\n<text text-anchor=\"start\" x=\"934\" y=\"-52.8\" font-family=\"Helvetica,sans-Serif\" font-size=\"14.00\">gini = 0.43</text>\n<text text-anchor=\"start\" x=\"913\" y=\"-37.8\" font-family=\"Helvetica,sans-Serif\" font-size=\"14.00\">samples = 14.5%</text>\n<text text-anchor=\"start\" x=\"908\" y=\"-22.8\" font-family=\"Helvetica,sans-Serif\" font-size=\"14.00\">value = [0.32, 0.68]</text>\n<text text-anchor=\"start\" x=\"917\" y=\"-7.8\" font-family=\"Helvetica,sans-Serif\" font-size=\"14.00\">class = Success</text>\n</g>\n<!-- 12&#45;&gt;13 -->\n<g id=\"edge13\" class=\"edge\">\n<title>12&#45;&gt;13</title>\n<path fill=\"none\" stroke=\"black\" d=\"M966,-103.73C966,-95.52 966,-86.86 966,-78.56\"/>\n<polygon fill=\"black\" stroke=\"black\" points=\"969.5,-78.3 966,-68.3 962.5,-78.3 969.5,-78.3\"/>\n</g>\n<!-- 14 -->\n<g id=\"node15\" class=\"node\">\n<title>14</title>\n<path fill=\"#5fb0ea\" stroke=\"black\" d=\"M1170,-68C1170,-68 1062,-68 1062,-68 1056,-68 1050,-62 1050,-56 1050,-56 1050,-12 1050,-12 1050,-6 1056,0 1062,0 1062,0 1170,0 1170,0 1176,0 1182,-6 1182,-12 1182,-12 1182,-56 1182,-56 1182,-62 1176,-68 1170,-68\"/>\n<text text-anchor=\"start\" x=\"1084\" y=\"-52.8\" font-family=\"Helvetica,sans-Serif\" font-size=\"14.00\">gini = 0.27</text>\n<text text-anchor=\"start\" x=\"1063\" y=\"-37.8\" font-family=\"Helvetica,sans-Serif\" font-size=\"14.00\">samples = 31.1%</text>\n<text text-anchor=\"start\" x=\"1058\" y=\"-22.8\" font-family=\"Helvetica,sans-Serif\" font-size=\"14.00\">value = [0.16, 0.84]</text>\n<text text-anchor=\"start\" x=\"1067\" y=\"-7.8\" font-family=\"Helvetica,sans-Serif\" font-size=\"14.00\">class = Success</text>\n</g>\n<!-- 12&#45;&gt;14 -->\n<g id=\"edge14\" class=\"edge\">\n<title>12&#45;&gt;14</title>\n<path fill=\"none\" stroke=\"black\" d=\"M1021.85,-103.73C1034.97,-94.15 1048.93,-83.96 1061.97,-74.44\"/>\n<polygon fill=\"black\" stroke=\"black\" points=\"1064.37,-77.02 1070.38,-68.3 1060.24,-71.37 1064.37,-77.02\"/>\n</g>\n</g>\n</svg>\n",
            "text/plain": [
              "<graphviz.sources.Source at 0x7f1e647ab160>"
            ]
          },
          "metadata": {},
          "execution_count": 34
        }
      ]
    }
  ]
}